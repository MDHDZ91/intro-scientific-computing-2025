{
 "cells": [
  {
   "cell_type": "markdown",
   "id": "described-march",
   "metadata": {},
   "source": [
    "# Welcome to Intro to Scientific Programming!\n",
    "\n",
    "Run the below cells to make sure your setup worked. \n",
    "You can do this by clicking on the cell and then pressing `Shift+Enter`. \n",
    "If you don't get any errors, that means your setup worked. If you do, post in the slack and go to office hours.\n",
    "\n",
    "These libraries are installed automatically when you install Anaconda and the .csv file came from the github repository."
   ]
  },
  {
   "cell_type": "code",
   "execution_count": null,
   "id": "fresh-beads",
   "metadata": {},
   "outputs": [],
   "source": [
    "import numpy as np\n",
    "import matplotlib.pyplot as plt\n",
    "import pandas as pd"
   ]
  },
  {
   "cell_type": "code",
   "execution_count": null,
   "id": "c7b6793f",
   "metadata": {},
   "outputs": [],
   "source": [
    "print (\"Hello World\")"
   ]
  },
  {
   "cell_type": "code",
   "execution_count": null,
   "id": "239fbc35-9559-48ce-b8f2-100cb1c81132",
   "metadata": {},
   "outputs": [],
   "source": []
  }
 ],
 "metadata": {
  "kernelspec": {
   "display_name": "Python 3 (ipykernel)",
   "language": "python",
   "name": "python3"
  },
  "language_info": {
   "codemirror_mode": {
    "name": "ipython",
    "version": 3
   },
   "file_extension": ".py",
   "mimetype": "text/x-python",
   "name": "python",
   "nbconvert_exporter": "python",
   "pygments_lexer": "ipython3",
   "version": "3.10.12"
  }
 },
 "nbformat": 4,
 "nbformat_minor": 5
}
