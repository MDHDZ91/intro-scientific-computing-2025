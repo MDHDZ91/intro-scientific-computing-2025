{
 "cells": [
  {
   "cell_type": "markdown",
   "id": "94f17945-6b40-4ef5-8472-ad475251f970",
   "metadata": {},
   "source": [
    "# Previous Lesson Overview - Day 9 Intro to seaborn visualizations\n",
    "\n",
    "Instructor/Notebook creator: Maria D Hernandez Limon\n",
    "\n",
    "**AI assistance:** Maria used ChatGPT on *Aug2025* to help with commenting code, brainstorm and design of homework problems.\n",
    "I reviewed/edited the code, added comments, and validated results with tests/spot checks.\n",
    "\n",
    "In the previous lesson you learned about:\n",
    "1. Plotting with Seaborn \n",
    "2. Simple stats with SciPy\n",
    "3. Maps with CartoPy and GeoPandas\n",
    "4. Making gifs"
   ]
  },
  {
   "cell_type": "markdown",
   "id": "cea06dff-525a-4fd2-94fa-16a96fd1f128",
   "metadata": {},
   "source": [
    "# Day 10: Beyond Jupyter \n",
    "\n",
    "There are many ways to run python code to make it more sharable and faster! In this lesson we will discuss how to do that.\n",
    "\n",
    "\n",
    "**AI assistance:** Maria used ChatGPT on *Aug2025* to help with commenting code, brainstorm and design of homework problems.\n",
    "I reviewed/edited the code, added comments, and validated results with tests/spot checks.\n"
   ]
  },
  {
   "cell_type": "markdown",
   "id": "8cadf18c-99bf-4829-8efc-6bd2725b6c96",
   "metadata": {},
   "source": [
    "# 0. Project Set-up"
   ]
  },
  {
   "cell_type": "markdown",
   "id": "91cc58e5-9e7d-44e1-90c8-f1d19e8521ed",
   "metadata": {},
   "source": [
    "When starting a new project you want a diretory that looks like this:\n",
    "```\n",
    "project/\n",
    "├─ data/raw/      # never overwritten\n",
    "├─ scripts/       # exploration notebooks & reproducible scripts\n",
    "├─ modules/       # your reusable functions\n",
    "├─ outputs/       # figures / tables\n",
    "└─ requirements.txt #some read me with instructions\n",
    "```\n",
    "\n",
    "- Ideally this space is also a github repo that you update often!\n",
    "- And you have a mamba/conda env that houses all your packages"
   ]
  },
  {
   "cell_type": "markdown",
   "id": "538e05c8-088e-4972-8c30-b082b53db800",
   "metadata": {},
   "source": [
    "# 1. Running Python scripts"
   ]
  },
  {
   "cell_type": "markdown",
   "id": "ec1ec573-682e-4021-ab04-1ea018fe2420",
   "metadata": {},
   "source": [
    "## A - Jupyter notebooks"
   ]
  },
  {
   "cell_type": "markdown",
   "id": "9358ffd6-2af7-4401-8980-ca22e407b00c",
   "metadata": {
    "jp-MarkdownHeadingCollapsed": true
   },
   "source": [
    "A Typical Research Workflow\n",
    "\n",
    "1) Data collection & questions\n",
    "\n",
    "- **Collect:** collect or create data to explore\n",
    "- **Document:** in `README.md`, always write documentation of what you are working with\n",
    "- **Questions (examples):**\n",
    "  - Is ice cover decreasing over time in each lake?\n",
    "  - Do ER vs SU daily temperature distributions differ?\n",
    "\n",
    "2) Explore in Jupyter\n",
    "\n",
    "3) Confirm patterns with simple stats\n",
    "\n",
    "4) Scale to High Performance Computing (supercomputers like UChicago RCC), need .py\n",
    "\n",
    "5) Produce final figures (consistent & saved)\n",
    "\n",
    "6) Share the work (reproducibly)"
   ]
  },
  {
   "cell_type": "markdown",
   "id": "fc52a8a0-d43e-45d9-9ec7-e22247eeb09b",
   "metadata": {},
   "source": [
    "## B - `.py` Files\n",
    "\n",
    "This allows for automation and large scale."
   ]
  },
  {
   "cell_type": "markdown",
   "id": "595f6f44-206b-4a74-8c7d-0a6e577ddc7f",
   "metadata": {},
   "source": [
    "### [This](http://stanford.edu/~jainr/basics.py) site has a great explanation of .py. \n",
    "In general there are two ways I use .py scripts.\n",
    "\n",
    "**1. Save functions you have written in some application like jupyter for future use**\n",
    "\n",
    "**2. Write .py scripts to run on your computer's terminal (or a super computer)**\n",
    "\n",
    "**How to write a .py script:**\n",
    "\n",
    "To create a .py script you open any text editor, add your code and save the file with a .py at the end.\n",
    "Your code would be the lines we have written here. See `lake_wanted_timeseries.py` for an example.\n",
    "\n",
    "**NOTE: Change the datadirectory in lake_wanted_timeseries.py**\n",
    "\n",
    "There are a few parts that your script will need:\n",
    "\n",
    "1. add shebang line `#!/usr/bin/env python3` this tells your computer what language your script is in\n",
    "2. import libraries\n",
    "3. your code - including directories for your input/output\n",
    "4. To run a .py we must first make it executable by navigating to where our script is...\n",
    "   - open a terminal and type `cd directoey of your .py`\n",
    "   - and typing `chmod +x our_script.py`\n",
    "5. Then to run we use `python3 ./our_script.py anyargumentsforourscripthere`\n",
    "6. Our we import by using ```python from our_script import some_function```"
   ]
  },
  {
   "cell_type": "markdown",
   "id": "fccea1af-5ef3-4fe9-a419-68c9d8d9f0cd",
   "metadata": {},
   "source": [
    "**The shebang line**\n",
    "    - When you execute a file from the shell, the shell tries to run the file using the command specified on the shebang line. The # character is used because it defines a comment in most scripting languages (including python), so the shebang line will be ignored by the scripting language by default.\n",
    "    - Some background on the shebang which is not necessary to know but may be interesting to some: \"The shebang line was invented because scripts are not compiled, so they are not executable files, but people still want to \"run\" them.  The shebang line specifies exactly how to run a script.  In other words, this shebang line says that, when I type in `./my_script.py`, the shell will actually run `/usr/bin/env python my_script.py`\" - Sam King"
   ]
  },
  {
   "cell_type": "markdown",
   "id": "d8ec4bff-009f-49c3-9cb6-a022750d87ba",
   "metadata": {},
   "source": [
    "### 1. How to import functions from a .py?\n",
    "You can read functions you have in .py scripts without making your script executable. Still need the shebang line so your computer knows what language the code is in.\n",
    "\n",
    "Note: if your functions don't use any python library then you can import them from a .py file without a shebang.\n",
    "\n",
    "Let's make `func_home.py` with the following functions."
   ]
  },
  {
   "cell_type": "markdown",
   "id": "6cd350b6-4a46-44aa-a67b-d0dd49d54354",
   "metadata": {},
   "source": [
    "```python\n",
    "#!/usr/bin/env python3\n",
    "\n",
    "# the libraries your functions need\n",
    "import numpy as np\n",
    "\n",
    "def print_name(some_name):\n",
    "    print(f\"the name is {some_name}\")\n",
    "\n",
    "def print_len_name(some_name):\n",
    "    print(f\"the length of the name is {len(some_name)}\")\n",
    "\n",
    "def print_max_num(some_name):\n",
    "    return len(some_name)\n",
    "```\n"
   ]
  },
  {
   "cell_type": "markdown",
   "id": "60118d21-cf6f-4a24-a0b4-129cced6b6c6",
   "metadata": {},
   "source": [
    "I am going to make func_home.py now. \n",
    "\n",
    "  1. Crete a new text file\n",
    "  2. rename to func_home.py\n",
    "  3. start with shebang\n",
    "  4. include code\n",
    "  5. Make sure your file lives in the same directory as the notebook you are working on - if not there are ways around it but I never do that... so I will let you look it up :)"
   ]
  },
  {
   "cell_type": "code",
   "execution_count": null,
   "id": "6ce43115-530c-4e3b-85b0-12825449eac7",
   "metadata": {},
   "outputs": [],
   "source": [
    "from func_home import print_name\n",
    "print_name('maria')\n",
    "\n",
    "from func_home import print_len_name\n",
    "print_len_name('maria')\n",
    "\n",
    "from func_home import print_max_num\n",
    "print_max_num('maria')"
   ]
  },
  {
   "cell_type": "markdown",
   "id": "c274c304-9b4d-4509-b2f7-225a51218926",
   "metadata": {},
   "source": [
    "#### Check-in [1]"
   ]
  },
  {
   "cell_type": "markdown",
   "id": "28550022-2ebf-47a4-9a30-5dd88f87ac88",
   "metadata": {},
   "source": [
    "write your own my_funcs.py, make it executable, write a function that returns and prints how many letters are in your favorite color.Then in this notebook  (Day 10) import the function like we did above. Tell me how many letters my favorite color 'green' and yours has."
   ]
  },
  {
   "cell_type": "code",
   "execution_count": null,
   "id": "278ec16e-3579-4644-be4e-5e37226a4961",
   "metadata": {},
   "outputs": [],
   "source": [
    "# import functions\n",
    "\n",
    "# find our answers"
   ]
  },
  {
   "cell_type": "markdown",
   "id": "0737e470-ace1-40aa-aced-a2b3053639c9",
   "metadata": {
    "jp-MarkdownHeadingCollapsed": true
   },
   "source": [
    "#### answer"
   ]
  },
  {
   "cell_type": "code",
   "execution_count": null,
   "id": "ae587fe3-460f-4b45-a411-81a4718b2dd4",
   "metadata": {},
   "outputs": [],
   "source": [
    "def print_len_col(some_color):\n",
    "    return(len(some_color))\n",
    "    print(f\"the length of the color is {len(some_color)}\")\n",
    "\n",
    "print_len_col(\"green\")  "
   ]
  },
  {
   "cell_type": "code",
   "execution_count": null,
   "id": "a87efe63-9fde-4e5b-a5b5-77adf1623344",
   "metadata": {},
   "outputs": [],
   "source": [
    "from my_funcs import print_len_col\n",
    "\n",
    "print_len_col(\"green\")"
   ]
  },
  {
   "cell_type": "markdown",
   "id": "5db7e518-1199-4a22-86b0-2aa8f315137b",
   "metadata": {},
   "source": [
    "### 2. How to run a .py?"
   ]
  },
  {
   "cell_type": "markdown",
   "id": "1e8cce09-958b-4106-9ce4-b695532c11bc",
   "metadata": {},
   "source": [
    "After you make your .py executable you run by navigating to the location of your script and running the following command:\n",
    "\n",
    "`python3 ./our_script.py anyargumentsforourscripthere`\n",
    "\n",
    "in the example below lake_wanted_timeseries.py is my script and it take a lake initial as input so I am typing SU for superior."
   ]
  },
  {
   "cell_type": "code",
   "execution_count": null,
   "id": "0593e031-8ca5-4c98-a909-e99f470cc03d",
   "metadata": {},
   "outputs": [],
   "source": [
    "import os"
   ]
  },
  {
   "cell_type": "markdown",
   "id": "73500574-57b1-414a-946d-e2783aff606e",
   "metadata": {},
   "source": [
    "I like to use os when I need to execute code and don't want to leave my notebook.\n",
    "\n",
    "`os`is Python’s standard library module for talking to your operating system.\n",
    "It handles things like folders/files, environment variables, and running shell commands.\n",
    "No install needed: it ships with Python."
   ]
  },
  {
   "cell_type": "code",
   "execution_count": null,
   "id": "68aa7820-7478-495e-9337-cf735ba43c0c",
   "metadata": {},
   "outputs": [],
   "source": [
    "os.system('chmod +x lake_wanted_timeseries.py')\n",
    "os.system('python3 ./lake_wanted_timeseries.py \"SU\"')"
   ]
  },
  {
   "cell_type": "markdown",
   "id": "2812aff7-1ee3-45a7-8bae-c1319b429165",
   "metadata": {},
   "source": [
    "For the shell’s purposes, a command which exits with a **zero exit status has succeeded**. A non-zero exit status indicates failure. --https://www.gnu.org/software/bash/manual/html_node/Exit-Status.html\n",
    "\n",
    "I can leverage the functionality of fstrings and do the following, instead of writing each line 5 times (one per lake). And it also leaves a record of the commands I ran in the terminal in my jupyter notebook."
   ]
  },
  {
   "cell_type": "code",
   "execution_count": null,
   "id": "1da6e4e7-0f53-4125-9588-7f960aaae4fe",
   "metadata": {},
   "outputs": [],
   "source": [
    "for lake in ['SU','ER','MI','ON','ER']:\n",
    "    os.system('python3 ./lake_wanted_timeseries.py {}'.format(lake))"
   ]
  },
  {
   "cell_type": "markdown",
   "id": "bf784417-cb7a-4b90-87c9-892a094afcee",
   "metadata": {},
   "source": [
    "### Check-in [2]\n",
    "\n",
    "Use the method above to write amic_ts.py, this script should:\n",
    "- take in a lake wanted as an argument \n",
    "- read in amic housed in the data folder as great_lakes_maxice.csv, tip save as temp and use as much code from lake_wante_timeseries.py you can\n",
    "- subset the data to only include lake wanted\n",
    "- save the figure made \n",
    "- remeber to make the code executable\n",
    "- run in a for loop so you have an image per lake "
   ]
  },
  {
   "cell_type": "markdown",
   "id": "90b404ef-68fa-4e70-8cb3-e3ed5b050ed9",
   "metadata": {
    "jp-MarkdownHeadingCollapsed": true
   },
   "source": [
    "#### answer"
   ]
  },
  {
   "cell_type": "markdown",
   "id": "9d758e15-5936-408b-99d6-77feae086c91",
   "metadata": {},
   "source": [
    "``` python \n",
    "#!/usr/bin/env python3\n",
    "\n",
    "import pandas as pd\n",
    "import numpy as np\n",
    "import matplotlib.pyplot as plt\n",
    "import sys\n",
    "\n",
    "#select a wanted lake\n",
    "lake_wanted=sys.argv[1]\n",
    "\n",
    "#this is the directory where we want to store the data we finish analyzing---------CHANGE\n",
    "data_out_directory='../output/'\n",
    "\n",
    "#import data\n",
    "temp_data = pd.read_csv(\"../data/great_lakes_maxice.csv\")\n",
    "\n",
    "##subset data\n",
    "lake_subset=temp_data.loc[temp_data['Lake']==lake_wanted]\n",
    "lake_subset.plot(x='Year',y='Cover',kind='line',title=f'{lake_wanted}')\n",
    "plt.tight_layout()\n",
    "plt.savefig(data_out_directory+f'{lake_wanted}_timeseries.pdf')\n",
    "\n",
    "```"
   ]
  },
  {
   "cell_type": "code",
   "execution_count": null,
   "id": "ddfd5bf0-0a16-4c95-b9bc-f03083c34ead",
   "metadata": {},
   "outputs": [],
   "source": [
    "os.system('chmod +x amic_ts.py')"
   ]
  },
  {
   "cell_type": "code",
   "execution_count": null,
   "id": "1dc3d97e-8a9d-498d-9e99-48c032177006",
   "metadata": {},
   "outputs": [],
   "source": [
    "os.system('python3 ./amic_ts.py \"Superior\"')"
   ]
  },
  {
   "cell_type": "code",
   "execution_count": null,
   "id": "43996b76-f2aa-456f-9812-da0fb41a42a0",
   "metadata": {},
   "outputs": [],
   "source": [
    "for lake in ['Superior','Erie','Michigan','Onario','Erie']:\n",
    "    os.system('python3 ./amic_ts.py {}'.format(lake))"
   ]
  },
  {
   "cell_type": "markdown",
   "id": "2f9159a9-e774-4820-aebc-a57ca66f40c2",
   "metadata": {},
   "source": [
    "I know these examples are very simple but the point is to illustrate functionality. \n",
    "\n",
    "\n",
    "*** More on OS *** --- interacting with terminal via jupyter\n",
    "\n",
    "OS description: https://www.geeksforgeeks.org/python-os-system-method/\n",
    "\n",
    "OS information: https://thomas-cokelaer.info/tutorials/python/module_os.html"
   ]
  },
  {
   "cell_type": "markdown",
   "id": "ab110094-f8e3-4402-8eee-733f7842a111",
   "metadata": {},
   "source": [
    "## C - Command Line : SKIP"
   ]
  },
  {
   "cell_type": "markdown",
   "id": "8feac495-f8bb-40c2-b5b8-281a692b838d",
   "metadata": {},
   "source": [
    "The Command Line by Amanda Farah\n",
    "\n",
    "The command line is kind of like a much more powerful Finder, but you have to type everything instead of clicking. You can move files, copy them, create them, rename them, move between folders, create them, rename them. In the command line, you can launch any application you want, open any file you want, search for files, search for strings in files, and much more. Think of it as a way to speak more directly to your computer.\n",
    "\n",
    "The command line is a very powerful interface for your computer, but it is also a universal interface for all Unix-based computers (Macs and PCs running Linux or other Unix operating systems, but not Windows machines). Therefore, the command line is how you will interact with computing clusters/supercomputers. Most clusters don't have a way to control them graphically (i.e. by clicking on things). Instead, they just have a command line interface. Even if they do have a graphical interface, its usually very cumbersome, slow, and limited. Therefore, learning command line syntax is the way to go. Therefore, when you eventually scale up your code to use clusters, you might find it helpful to come back to this notebook.\n",
    "\n",
    "The languages most commonly used on the command line are `bash` and `zsh`. They are very similar, and for our intents and purposes, they are the same. I'll probably just refer to both of them as `bash`.\n",
    "\n",
    "### 1. Commands you know and love\n",
    "Let's start with the usual commands we do every day. Open a new terminal window and type the following:\n",
    "```\n",
    "cd <your_path>/intro-programming-2022 \n",
    "```\n",
    "`cd` means \"change directory\". So this command changed our directory from wherever the terminal started to your intro programming directory. Here, the _command_ is `cd` and the _argument_ is the path you would like to navigate to. \n",
    "```\n",
    "git pull\n",
    "```\n",
    "Git is a software installed on your computer, like python or microsoft word. This line says \"run the software called git. Now that you know I'm talking to the software called git, I want you to specifically run the part of the software that pulls modifications from an online repository to my local version\"\n",
    "```\n",
    "cd notebooks\n",
    "```\n",
    "Again, change directories. This time, we move to the `notebooks` directory.\n",
    "```\n",
    "jupyter notebook\n",
    "```\n",
    "Jupyter is another software installed on your computer. This line says \"run the software called jupyter, and specifically run the notebook part of that software.\" Now, Open today's notebook and give a green check ✅ when you're ready.\n",
    "\n",
    "### 2. New directory-navigation commands\n",
    "Now for some more commands related to directory navigation. \n",
    "\n",
    "It might be useful to have this picture of our directoy stucture in your head as we proceed. \n",
    "```\n",
    "intro-programming-2025\n",
    "    |\n",
    "    - README.md\n",
    "    - notebooks\n",
    "        |\n",
    "        - Day0_Setup.ipynb\n",
    "        - Day1_Data_and_Storage.ipynb\n",
    "          ...\n",
    "    - data\n",
    "        |\n",
    "        - Pokemon.txt\n",
    "        - star_formation_rate_MD.csv\n",
    "         ...\n",
    "```\n",
    "Here, `intro-programming-2022` is _above_ `data`, and `Pokemon.txt` is _below_ data. `data` is _below_ `intro-programming-2022` and _level with_ `notebooks`.\n",
    "\n",
    "0. Open a new terminal tab or window. Then, navigate to the `notebooks` directory like we do every day. Give a ✅ when you get there or a ❌ if you run into errors.\n",
    "\n",
    "1. Lets make a new directory called \"my_directory.\"\n",
    "    ```\n",
    "    mkdir my_directory\n",
    "    ```\n",
    "    Here, the _command_ is called `mkdir` for \"make directory\" and the _argument_ is the name of the directory. The user supplies the argument, and in this case we decided to pass `my_directory`. \n",
    "2. Lets check that we have made the directory by listing everything in our current directory.\n",
    "    ```\n",
    "    ls\n",
    "    ```\n",
    "    Here, `ls` stands for \"list\". You should see listed all the contents of the `notebooks` directory, where we currently are. Check that, in addition to all of the notebooks we've used so far, you see `my_directory`.\n",
    "    - Sidenote: You can list files in other directories without navigating into them. Try listing everything in the above directory\n",
    "    ```\n",
    "    ls ../\n",
    "    ```\n",
    "    Where `..` means \"move up one\". You could also do `../../` to move up two, and so on. Try listing everything in the `data` directory.\n",
    "    ```\n",
    "    ls ../data/\n",
    "    ```\n",
    "    - Sidenote: You can list files that have a specific pattern in them using _wildcards_. List all of the jupyter notebook files in the current directory:\n",
    "    ```\n",
    "    ls *.ipynb\n",
    "    ```\n",
    "    List all of the `.csv` files in the `data` directory:\n",
    "    ```\n",
    "    ls ../data/*.csv\n",
    "    ```    \n",
    "    Note: You can use wildcards for many commands in the command line, not just `ls`.\n",
    "3. Navigate into our new directory\n",
    "    ```\n",
    "    cd my_directory\n",
    "    ```\n",
    "    Again, `cd` means \"change directory.\"\n",
    "4. Check that we've navigated there\n",
    "    ```\n",
    "    pwd \n",
    "    ```\n",
    "    This command means \"print working directory\" and the output gives the full path to your current location in the file structure. Give a ✅ if its output makes sense to you, and a ❌ if not.\n",
    "5. Make a text file in the directory called \"my_file.txt\" with the words \"Command lines are cool\" in it. You can do this in many ways, but here is a simple one.\n",
    "    ```\n",
    "    echo \"command lines are cool\" > my_file.txt\n",
    "    ```\n",
    "6. Open the file in your default text editor.\n",
    "```\n",
    "open my_file.txt\n",
    "```\n",
    "Here, `open` is the command and the argument is the filename, in this case `my_file.txt`.\n",
    "\n",
    "7. Move/rename the file\n",
    "``` \n",
    "mv my_file.txt my_cool_file.txt\n",
    "```\n",
    "Here, `mv` means \"move\". This command moves contents of files to new locations. In this case, the new location was the same directory but inside a file with a different name. Check it worked by running `ls`. Double check by running `open my_cool_file.txt`. \n",
    "\n",
    "7. Delete the file\n",
    "```\n",
    "rm my_cool_file.txt\n",
    "```\n",
    "Check that it is really gone with an `ls` and and `open`. \n",
    "Note: `rm` can't be undone! There is no recycle bin here. Regular backups are important. \n",
    "\n",
    "7. Tab completion: Look at Amanda's terminal for this.\n",
    "\n",
    "Once you get the hang of these commands, they become much, much faster than clicking around in a Finder window. \n",
    "\n",
    "### 3. New fancier commands\n",
    "\n",
    "1. Download stuff from the internet using `curl`\n",
    "    - `curl` is short for \"Client for URLs.\" Check out the documentation [here](https://curl.se/docs/manpage.html).\n",
    "    - We will download the \"research and development survey\" from this website: https://www.stats.govt.nz/large-datasets/csv-files-for-download/\n",
    "    - do this using `curl` in two ways:\n",
    "    ```\n",
    "    curl https://www.stats.govt.nz/assets/Uploads/Research-and-development-survey/Research-and-development-survey-2021/Download-data/Research-and-development-survey-2021-CSV-notes.csv\n",
    "    ```\n",
    "    This downloads the file and displays it. But if we want to save the file on our computer, we will use the `-o` option and specify a file. We will save the data to a file called \"RnD.csv\" in the output directory.\n",
    "    ```\n",
    "    curl -o ../output/RnD.csv https://www.stats.govt.nz/assets/Uploads/Research-and-development-survey/Research-and-development-survey-2021/Download-data/Research-and-development-survey-2021-CSV-notes.csv\n",
    "    ```\n",
    "    Once you do this, run `ls ../output/` and see if your new file is there.\n",
    "    \n",
    "1. Find files using `find`\n",
    "    - Finally! A command named something that makes sense. This is used when I'm looking for a file but I don't know where it is on my computer. Check out the documetation [here](https://linux.die.net/man/1/find).\n",
    "    - The general form is: `find <starting directory> <matching criteria and actions>`\n",
    "    - So, if we want to find all `txt` files in the \"output\" directory, we can do \n",
    "    ```\n",
    "    find ../output -name \"*.txt\" -print\n",
    "    ```\n",
    "    The first argument is the place to look for your files (here, it was `../output`) then, its all optional arguments. These are a lot like keyword arguments in python. The first optional argument is `-name` which accepts a pattern. This is the pattern we are searching for (here, it was `\"*.txt\"` where we used `*` as a wildcard. The second optional argument is `-print`, which tells find to print the output of its search. Try to run the command.\n",
    "    \n",
    "1. Find contents in files using `grep`\n",
    "    - Syntax: `grep <string to search for> <options> <starting directory>`\n",
    "    - Look for all lines in all files that have the string \"Huron\", starting one level up, and going \"recusrively\" through all directoryies under our starting directory:\n",
    "    ```\n",
    "    grep \"Huron\" -r ../\n",
    "    ```\n",
    "    Here, \"Huron\" is the string we want to search for, \"-r\" is telling `find` to go recursively (meaning go through each sub directory under the starting directory), and \"../\" means start one directory up from where we are now.\n",
    "\n",
    "\n",
    "It is very useful to keep a small text file (or other set of notes) of useful commands. Unlike `python`, `bash` and `zsh` don't have very intuitive syntax or naming conventions, so it can be hard to memorize their commands. Katie, Maria, and Amanda all keep a short list of useful commands, especially ones with confusing syntax, along with explanations of how to use them."
   ]
  },
  {
   "cell_type": "markdown",
   "id": "8d3878f1-af26-47ac-a6fe-2b9d795c7818",
   "metadata": {},
   "source": [
    "### 4. Python in The Terminal\n",
    "\n",
    "Follow these steps:\n",
    "1. Open a new terminal tab or window\n",
    "2. Navigate to your working directory, like we do every day. We will work out of the `notebooks` directory.\n",
    "3. Type `python`\n",
    "    - Your terminal should display something similar to the following:\n",
    "    ```\n",
    "    Python 3.8.5 (default, Sep  4 2020, 02:22:02) \n",
    "    [Clang 10.0.0 ] :: Anaconda, Inc. on darwin\n",
    "    Type \"help\", \"copyright\", \"credits\" or \"license\" for more information.\n",
    "    >>> \n",
    "    ```\n",
    "    - If it displays `Python 3.X`, where `X` is any value, you are good!\n",
    "    - If it displays `Python 2.Y` for any value of Y, type `exit()` and press enter. Then type `python3`. Ask a TA if this doesn't work.\n",
    "    \n",
    "4. You are now running python interactively! Let's try a few things out to see how interactive python works.\n",
    "    - Type a print statement with a string as the argument to `print()`. Press enter\n",
    "    - Type a mathematical expression (e.g. `1+1`) and press enter\n",
    "    - Notice that inputs are always on lines denoted by `>>>` or `...` and outputs start newlines without these characters.\n",
    "5. Let's try some more nuanced commands that we are used to using on Jupyter Notebooks.\n",
    "    - Try some of our usual imports (e.g. `import numpy as np`, then try `import matplotlib.pyplot as plt`)\n",
    "    - Define a variable, calling it whatever you want and giving it whatever value you want, using any datatype you want. Press enter.\n",
    "    - Type the variable's name. Press enter.\n",
    "5. Now let's try some code we've seen before to see what happens in interactive mode.\n",
    "    - First, I'll copy some things from Day 2, where we had some fun with lists. Start by replicating the following line in your terminal, then follow along with the instructor. Try to predict what will happen with each line before pressing enter.\n",
    "    ```python\n",
    "    animals = ['cat', 'dog', 'squid', 'moose', 'falcon']\n",
    "    ```\n",
    "    - Now, we will try some things using `pandas`. Remember, to use a package we need to import it first. We haven't imported `pandas` yet, so lets do that now.\n",
    "    - We're going to load in some data that we used earlier. This data is stored in a csv format. I don't quite remember the syntax for the `pandas` function for this, but we don't want to leave the terminal because that's a lot of work, so lets try the built in `help()` function. \n",
    "    - It works very similarly to using it in jupyter! you can even scroll. However, there's no buttons to close out of the viewing mode once you're in it, so you'll have to type `q` to leave after you've read everything you need.\n",
    "    - You can re-run the same line without having to re-type the whole thing by using the \"up\" button on your keyboard.\n",
    "    - Looking at the docstring, it seems like the first argument is the file name, and all other arguments are optional. the default delimiter is `,`, which is exactly what we want, so we can just go with default behavior.\n",
    "    - Load in the file but don't assign it to a variable. You'll have to figure out the path. The file's name is `Pokemon.csv` and it is in the `data` directory. \n",
    "    - You should see the column names as well as the first and last 5 rows of data.\n",
    "    - Now load in the file but this time assign it to a variable. I'll call my variable `data`. Notice how there's no output now.\n",
    "    - _**Coding check-in:**_ Play around with your dataframe. How many Pokemon have Grass as their first type? What's the mean attack value?\n",
    "6. How does plotting work?\n",
    "    - With our nice graphical user interface (GUI) gone, we're stuck with a very basic looking screen that doesn't seem like it has support for the beautiful plots you've learned how to make. What happens when you try to make a plot?\n",
    "    - We've already imported `matplotlib` and `numpy`, so we have all the libraries we need for a simple plot. \n",
    "    - Make an array full of increasing `float` values.\n",
    "    - Plot the square of that array vs the array itself.\n",
    "    - you might get taken away from the terminal for seemingly no reason. There is a reason, just go back to the terminal for now.\n",
    "    - Run `plt.show()`. A plot should pop up.\n",
    "    - You must close your plot to have access to the command line again.\n",
    "7. Functions\n",
    "    - Write a simple \"hello world!\" function.\n",
    "    - You have to provide your own indentation in interactive python. Otherwise you will get the dreaded `IndentationError: expected an indented block`!\n",
    "    - An empty newline indicates you're done writing the function. \n",
    "    - `...` indicates being inside an indented block, `>>>` indicates being outside of it\n",
    "    - Call your function.\n",
    "    - Write a function that takes in one argument, applies something to it, and returns a new value.\n",
    "    - Call your function.\n",
    "\n",
    "If I'm writing a super long function or a complex plotting script and I make a typo, I have to go and redo everything. Even with our newly-beloved \"up\" key, this is extremely annoying. An obvious solution might be to go back to jupyter notebooks, but there are many situations in which that is not possible. Instead, we will move on to a generally useful tool, `.py` scripts.\n",
    "\n",
    "9. Leave interactive mode by typing `exit()`. Don't close your terminal window."
   ]
  },
  {
   "cell_type": "markdown",
   "id": "707019a3-9601-4db2-8313-634c2a7a816d",
   "metadata": {},
   "source": [
    "### 5. **Maria** say no coding in terminal unless you have a .py\n",
    "\n",
    "The explanations for Amanda above are great so I am keeping them as a resource to you.\n",
    "However, PLEASE write all your code in a .py or .sh or some file that is saved. \n",
    "Anything you write in the terminal is basically lost when you close the session.\n",
    "Future you and other collaboattors will truly hate you if you can't replicate the code you only gave the terminal.\n"
   ]
  },
  {
   "cell_type": "markdown",
   "id": "6558f8d8-879f-4644-8717-c5ed690a53b5",
   "metadata": {},
   "source": [
    "## D- in supercomputers (HPC)\n",
    "HPC = High-Performance Computing.\n",
    "\n",
    "It’s the practice of using many powerful computers together (a cluster / supercomputer) to run big or time-critical jobs faster than a laptop can. At Uchicago go we many the [RCC](https://docs.rcc.uchicago.edu/).\n",
    "\n",
    "What it looks like:\n",
    "\n",
    "- Cluster: lots of nodes (machines), each with many CPU cores and often GPUs, connected by a fast network.\n",
    "- Scheduler: software (e.g., SLURM) that queues your jobs and gives them resources (cores, memory, time).\n",
    "- Storage: shared filesystems (home, project, scratch). You move data in/out and read/write from your jobs.\n",
    "\n",
    "Why use it:\n",
    "\n",
    "- Your data/code is too large/slow for a laptop.\n",
    "- You can run many jobs in parallel (e.g., one per lake/parameter).\n",
    "- You need GPUs or lots of memory/cores.\n",
    "\n",
    "How to communicate:\n",
    "- Need .py or .R files that house your actual code\n",
    "- Need .sh that tells the computer how/where to run your .py -- this is needed because HPC has a scheduler and so you need to pass instructions\n",
    "\n",
    "the [2022 advanced course](https://github.com/NRT-DSEER/computing-for-research-2022/tree/main/notebooks) has a really nice explanation of github on day6, take a look!"
   ]
  },
  {
   "cell_type": "markdown",
   "id": "e0f5f68c-1e56-4011-9604-d3c6e3c2ddd6",
   "metadata": {},
   "source": [
    "### 1. Working with .sh"
   ]
  },
  {
   "cell_type": "markdown",
   "id": "fc6b38a5-af39-4483-9699-ecb46d9012dc",
   "metadata": {},
   "source": [
    "- .sh known as shell scripts are written in bash which is the language we use to pass commands to the terminal --like cd and ls [Shell_scripts](https://www.shellscript.sh/)\n",
    "\n",
    "- If you have multiple .py scripts that need to be run sequentially or maybe a .py and a .R script we could house them both on a .sh and run the .sh script. \n",
    "\n",
    "- If you find yourself typing many commands on the command line you can also write them in a .sh script and run that instead of writing every command on the command line repeatedly\n",
    "\n",
    "- all shell scripts start with a shebang too `#!/usr/bin/env bash` but the info on the shebang gets more complicated if you are running on a super computer vs your local computer. \n",
    "See `lakes_wanted_local_example.sh` and `lakes_wanted_rcc_example.sh` for very simple examples.\n",
    "\n",
    "- we also use `chmod +x myscript.sh` to make shell scripts executable (regardless of weather you are on your computer or a super computer)"
   ]
  },
  {
   "cell_type": "markdown",
   "id": "54076dc3-a12f-4e16-b323-5908b8b78739",
   "metadata": {},
   "source": [
    "####  use to run .sh locally [lakes_wanted_local_example.sh]"
   ]
  },
  {
   "cell_type": "markdown",
   "id": "e510f636-d146-4776-bea1-c9bef6fec42b",
   "metadata": {},
   "source": [
    "``` bash\n",
    "\n",
    "#!/usr/bin/env bash\n",
    "\n",
    "for i in SU ER ON HU MI\n",
    "    do\n",
    "    python3 ./lake_wanted_timeseries.py \"$i\"\n",
    "    done \n",
    "\n",
    "```"
   ]
  },
  {
   "cell_type": "code",
   "execution_count": null,
   "id": "c9ccfe4e-5ee9-4831-b4cb-b8848e7465e2",
   "metadata": {},
   "outputs": [],
   "source": [
    "os.system('chmod +x lakes_wanted_local_example.sh')\n",
    "os.system('./lakes_wanted_local_example.sh')"
   ]
  },
  {
   "cell_type": "markdown",
   "id": "d3dcd6a0-7f2d-42c5-9a53-e17e43d123bb",
   "metadata": {},
   "source": [
    "#### to submit sh to super computer [lakes_wanted_rcc_example.sh]"
   ]
  },
  {
   "cell_type": "markdown",
   "id": "3e612dba-d630-4a7b-acd8-5d7de8a6c2ac",
   "metadata": {},
   "source": [
    "``` bash\n",
    "\n",
    "#!/bin/bash\n",
    "#SBATCH --job-name=example_sbatch\n",
    "#SBATCH --output=example_sbatch.out\n",
    "#SBATCH --error=example_sbatch.err\n",
    "#SBATCH --time=00:05:00\n",
    "#SBATCH --partition=broadwl\n",
    "#SBATCH --nodes=4\n",
    "#SBATCH --ntasks-per-node=14\n",
    "#SBATCH --mem-per-cpu=2000\n",
    "\n",
    "#we load python via anaconda first\n",
    "module load python/anaconda-2020.02\n",
    "\n",
    "#then we tell the computer to run our .py script\n",
    "python3 ./lake_wanted_timeseries.py 'SU'\n",
    "\n",
    "```"
   ]
  },
  {
   "cell_type": "markdown",
   "id": "f695c1b3-1859-4105-b643-772bada28696",
   "metadata": {},
   "source": [
    "You must be on a super computer cluster first and your .sh script and scripts inside this script should be executable and on the super computer too. Then:\n",
    "\n",
    "Navigate to your script, after you've changed the info on the .sh shebang type the following on the terminal.\n",
    "\n",
    "`sbatch ./lakes_wanted_rcc_example.sh`\n",
    "\n",
    "Your job will then be added to a queue and executed when it becomes your turn."
   ]
  },
  {
   "cell_type": "markdown",
   "id": "457f68d9-7a40-45c8-b9c9-0659cdca3039",
   "metadata": {},
   "source": [
    "### 2. Working on Midway \n",
    "\n",
    "The [Day 6 lecture](https://github.com/NRT-DSEER/computing-for-research-2022/blob/main/notebooks/Day6_RCC.ipynb) from the advanced coding class in 2022 covered Midway and running jupyter notebooks on midway, please consult their lesson. \n",
    "\n",
    "The [RCC](https://docs.rcc.uchicago.edu/) website is also a great resource and they run [trainings](https://rcc.uchicago.edu/support-and-services/workshops-and-training) all the time. \n",
    "\n",
    "The workflow below is what I do."
   ]
  },
  {
   "cell_type": "markdown",
   "id": "caba4370-606e-4083-8628-624d24aec41e",
   "metadata": {},
   "source": [
    "#### jupyer notebooks\n",
    "**For data exploration that requires more power:**\n",
    "\n",
    "0. Open terminal\n",
    "1. shh into midway3 ssh uchicagoid@midway3.rcc.uchicago.edu\n",
    "2. enter password and validate -- you need special permission \n",
    "3. navigate to my working directory\n",
    "4. I request an interactive session:\n",
    "     ``` sinteractive --exclusive --partition=caslake --nodes=1 --time=01:00:00 --account=pi ```\n",
    "     Avoid working on the login node.\n",
    "     The interactive session will load from you last directory. So be in the right place.\n",
    "     After your time is over the partition closes on you so be mindful of your request.\n",
    "6. load the conda env I created like we did for class ``` conda activate mdh_env ```\n",
    "7. find my ip adress ```/sbin/ip route get 8.8.8.8 | awk '{print $NF;exit}' ```\n",
    "8. run my jupyter ```jupyter notebook --no-browser --ip=numnber_from_6```\n",
    "9. What I looks like a regular notebook in my own computer but what I run is working on the partition \"caslake\" on the rcc\n",
    "10. I work on my code, then close my notebooks as normal when I fisnihs \n",
    "11. conda deactivate when I am done\n",
    "12. exit to end my interactive session (if I didn't get kicked out 😔)\n",
    "13. exit to end my session in midway"
   ]
  },
  {
   "cell_type": "markdown",
   "id": "f47a639f-9c71-4aca-a9f7-bd7ddff05820",
   "metadata": {},
   "source": [
    "#### submitting jobs\n",
    "\n",
    "0. Open terminal\n",
    "1. shh into midway3 ssh uchicagoid@midway3.rcc.uchicago.edu\n",
    "2. enter password and validate -- you need special permission \n",
    "3. navigate to my working directory that has my .py and .sh ready with SLURM instructions\n",
    "4. submit my code with ``` sbatch my_instructions.sh ```\n",
    "5. wait for it to actually run! Let it run and come back.\n",
    "6. The computer works while you are away.\n",
    "7. exit anc come back when you think the job is over.\n"
   ]
  },
  {
   "cell_type": "markdown",
   "id": "a63d2482-a40e-4e67-b9f7-f838a53697a1",
   "metadata": {},
   "source": [
    "# 2. Environments\n",
    "\n",
    "Whenver we work on a project we need specific programs and modules. Versions are always changing and so code may not work if it ins't run with the same packages as when it was written. This is why it is important to create a package and share it with your code.\n",
    "\n",
    "\n",
    "[Why create a conda env? -Anaconda](https://www.anaconda.com/docs/tools/working-with-conda/environments)\n",
    "\n",
    "[Manging env - Conda](https://docs.conda.io/projects/conda/en/latest/user-guide/tasks/manage-environments.html)"
   ]
  },
  {
   "cell_type": "markdown",
   "id": "43de5382-04d9-42f9-8e70-d2dde9386d05",
   "metadata": {},
   "source": [
    "## the skeleton"
   ]
  },
  {
   "cell_type": "markdown",
   "id": "244e026b-161c-4b2f-abee-341debc21912",
   "metadata": {},
   "source": [
    "for this class we made [py101]\n",
    "\n",
    "\n",
    "1) on your terminal\n",
    "```bash\n",
    "mamba create -n py101 python=3.12 -c conda-forge -y\n",
    "```\n",
    "\n",
    "2) Activate it\n",
    "```bash\n",
    "mamba activate py101\n",
    "```\n",
    "\n",
    "3) Install course packages\n",
    "```bash\n",
    "mamba install -c conda-forge numpy pandas matplotlib seaborn jupyterlab notebook ipykernel cartopy geopandas -y\n",
    "```\n",
    "\n",
    "4) Register the kernel for Jupyter\n",
    "```bash\n",
    "python -m ipykernel install --user --name py101 --display-name \"Python (py101)\"\n",
    "```\n",
    "\n",
    "5) Launch Jupyter - this contains both jupyter notebook and jupyter lab \n",
    "```bash\n",
    "jupyter lab\n",
    "```\n",
    "\n",
    "6) always mama deactivate when you finish"
   ]
  },
  {
   "cell_type": "markdown",
   "id": "bf025a08-d2f5-4a7d-ae51-dcab82c76296",
   "metadata": {},
   "source": [
    "This is the method you need for all env in the future! "
   ]
  },
  {
   "cell_type": "markdown",
   "id": "3e7aa908-62fe-41b4-a764-93def40d72be",
   "metadata": {},
   "source": [
    "## to update"
   ]
  },
  {
   "cell_type": "markdown",
   "id": "b5afcc90-159e-42c5-a0d7-30990c441632",
   "metadata": {},
   "source": [
    "- to install new pakages you simply repeat step 3 after activating you env!\n",
    "- to do more complicated things like change versions of a packege follow the steps in mange env link above!"
   ]
  },
  {
   "cell_type": "markdown",
   "id": "0330e567-9cd9-4830-a560-8cdee398d804",
   "metadata": {},
   "source": [
    "# 3. Github [Version control]"
   ]
  },
  {
   "cell_type": "markdown",
   "id": "88fad88f-d06a-4050-8254-d1f0743b1279",
   "metadata": {},
   "source": [
    "There will be times you change something in your code and it breaks all your work. But when that happens I know you will have an older verions you can refer to becaus eyou will be using github!"
   ]
  },
  {
   "cell_type": "markdown",
   "id": "c30b9758-b00e-42e3-8210-5d6984926564",
   "metadata": {},
   "source": [
    "For this class I was the only person updating or notebooks but in real life many people can work on the same code. I have never collaboated like this so I am not a pro. However I do use github all the time to save my code. I have a calendar update so that every friday I update my repos. "
   ]
  },
  {
   "cell_type": "markdown",
   "id": "1ccb302f-e84a-4fa4-a642-31734e61c474",
   "metadata": {},
   "source": [
    "the [2022 advanced course](https://github.com/NRT-DSEER/computing-for-research-2022/tree/main/notebooks) has a really nice explanation of github on day7, take a look!\n",
    "\n",
    "[github](https://docs.github.com/en/get-started/start-your-journey/hello-world) also has nice tutorial!"
   ]
  },
  {
   "cell_type": "markdown",
   "id": "a1fa2d5c-2dc7-4279-b987-0b9531eb8d98",
   "metadata": {},
   "source": [
    "# 4. Skills Test"
   ]
  },
  {
   "cell_type": "raw",
   "id": "82dba8ba-8f31-40ab-86e9-b1c66ebbef4f",
   "metadata": {},
   "source": [
    "# write what each library does - as a reminder to your future self\n",
    "\n",
    "Numpy - \n",
    "\n",
    "Pandas - \n",
    "\n",
    "Matplot -\n",
    "\n",
    "Seaborn -\n",
    "\n",
    "SciPy - \n",
    "\n",
    "Cartopy -\n",
    "\n",
    "Geopandas - \n",
    "\n",
    "os - "
   ]
  },
  {
   "cell_type": "markdown",
   "id": "02a3717a-7e06-44e1-9d70-6ca997b138e9",
   "metadata": {},
   "source": [
    "## Check -in [3] work on the quiz notebook"
   ]
  },
  {
   "cell_type": "markdown",
   "id": "66ee2340-8a04-4883-8a6d-011cdeb0725d",
   "metadata": {},
   "source": [
    "# 5. Review"
   ]
  },
  {
   "cell_type": "markdown",
   "id": "0d1ae0fb-6713-47e3-93fe-385aa510c8d7",
   "metadata": {},
   "source": [
    "## Where we’ve been\n",
    "\n",
    "**Day 1 — Data & Storage**\n",
    "- Files, folders, relative paths; read/write CSVs safely \n",
    "\n",
    "**Day 2 — Loops & Conditionals**\n",
    "- `for/while`, `if/elif/else`, list comprehensions for concise transforms.\n",
    "\n",
    "**Day 3 — NumPy**\n",
    "- Arrays, vectorization, boolean masks; fast numeric ops over Python loops.\n",
    "\n",
    "**Day 4 — Functions**\n",
    "- Write reusable functions + docstrings; simple assertions for sanity checks.\n",
    "\n",
    "**Day 5 — Intro Plotting**\n",
    "- Matplotlib basics ; labels, titles, grids, saving figures.\n",
    "\n",
    "**Day 6 — Pandas Intro**\n",
    "- reading and parsing files\n",
    "\n",
    "**Day 7 — Pandas Modifications**\n",
    "- chained ops, reshape (wide↔long), merges/joins.\n",
    "\n",
    "**Day 8 — Pandas Math**\n",
    "- Aggregations, rolling windows, resampling; small pipelines that end in a plot.\n",
    "\n",
    "**Day 9 — Seaborn · SciPy · Maps · GIFs**\n",
    "- Seaborn quick viz; `scipy.stats` (e.g., `linregress`, KS), GeoPandas maps (CRS!), simple `FuncAnimation` → GIF.\n",
    "\n",
    "**Day 10 — Beyond Jupyter**\n",
    "- Scripts (`.py`) , modules for reusable logic, job wrappers (`.sh`) + HPC basics (SLURM), reproducible outputs.\n",
    "\n",
    "---\n",
    "\n",
    "## Victory lap — what you can do now (at a glance)\n",
    "\n",
    "- Load & clean data → explore in a notebook → confirm with a small stat → plot clearly → save reproducibly.\n",
    "- Turn a notebook idea into a **script** + **module**, and (optionally) run it on **HPC**.\n"
   ]
  },
  {
   "cell_type": "code",
   "execution_count": null,
   "id": "1bf3f6ff-a30e-4165-b7de-3aec0ec36472",
   "metadata": {},
   "outputs": [],
   "source": []
  }
 ],
 "metadata": {
  "kernelspec": {
   "display_name": "Python (py101)",
   "language": "python",
   "name": "py101"
  },
  "language_info": {
   "codemirror_mode": {
    "name": "ipython",
    "version": 3
   },
   "file_extension": ".py",
   "mimetype": "text/x-python",
   "name": "python",
   "nbconvert_exporter": "python",
   "pygments_lexer": "ipython3",
   "version": "3.12.8"
  }
 },
 "nbformat": 4,
 "nbformat_minor": 5
}
