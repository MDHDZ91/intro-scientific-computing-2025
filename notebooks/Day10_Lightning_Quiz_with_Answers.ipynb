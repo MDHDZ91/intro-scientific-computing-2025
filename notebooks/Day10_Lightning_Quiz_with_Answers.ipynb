{
 "cells": [
  {
   "cell_type": "markdown",
   "id": "3e5416e5",
   "metadata": {},
   "source": [
    "# Day 10 Lightning Quiz\n",
    "This notebook contains small, concept-check questions covering Days 1–9.\n",
    "Answer each question in the cell below it."
   ]
  },
  {
   "cell_type": "markdown",
   "id": "859cad6b-23e2-41c6-894f-d2adb668b89f",
   "metadata": {},
   "source": [
    "quiz made with chatGPT from the class notebooks."
   ]
  },
  {
   "cell_type": "markdown",
   "id": "c0437c41",
   "metadata": {},
   "source": [
    "## Python Basics"
   ]
  },
  {
   "cell_type": "markdown",
   "id": "51f13e2d",
   "metadata": {},
   "source": [
    "**Q:** What’s the difference between a list and a tuple?"
   ]
  },
  {
   "cell_type": "code",
   "execution_count": null,
   "id": "d9b07c24",
   "metadata": {
    "jupyter": {
     "source_hidden": true
    }
   },
   "outputs": [],
   "source": [
    "# ANSWER (hidden by default)\n",
    "# Lists are mutable; tuples are immutable."
   ]
  },
  {
   "cell_type": "code",
   "execution_count": null,
   "id": "36877747",
   "metadata": {
    "jupyter": {
     "source_hidden": true
    }
   },
   "outputs": [],
   "source": [
    "# Your answer here"
   ]
  },
  {
   "cell_type": "markdown",
   "id": "cc569093",
   "metadata": {},
   "source": [
    "**Q:** What does len() return?"
   ]
  },
  {
   "cell_type": "code",
   "execution_count": null,
   "id": "baa197c8",
   "metadata": {
    "jupyter": {
     "source_hidden": true
    }
   },
   "outputs": [],
   "source": [
    "# ANSWER (hidden by default)\n",
    "# The number of items in an object."
   ]
  },
  {
   "cell_type": "code",
   "execution_count": null,
   "id": "002b703f",
   "metadata": {
    "jupyter": {
     "source_hidden": true
    }
   },
   "outputs": [],
   "source": [
    "# Your answer here"
   ]
  },
  {
   "cell_type": "markdown",
   "id": "8fb2a2d3",
   "metadata": {},
   "source": [
    "**Q:** What does if x: check for in Python?"
   ]
  },
  {
   "cell_type": "code",
   "execution_count": 1,
   "id": "0bffa9d9",
   "metadata": {
    "jupyter": {
     "source_hidden": true
    }
   },
   "outputs": [],
   "source": [
    "# ANSWER (hidden by default)\n",
    "# Checks if x is true (not zero/empty/False)."
   ]
  },
  {
   "cell_type": "code",
   "execution_count": null,
   "id": "26871073",
   "metadata": {
    "jupyter": {
     "source_hidden": true
    }
   },
   "outputs": [],
   "source": [
    "# Your answer here"
   ]
  },
  {
   "cell_type": "markdown",
   "id": "8a060f41",
   "metadata": {},
   "source": [
    "**Q:** What’s the purpose of indentation in Python?"
   ]
  },
  {
   "cell_type": "code",
   "execution_count": null,
   "id": "28bf1a62",
   "metadata": {
    "jupyter": {
     "source_hidden": true
    }
   },
   "outputs": [],
   "source": [
    "# ANSWER (hidden by default)\n",
    "# It defines code blocks."
   ]
  },
  {
   "cell_type": "code",
   "execution_count": null,
   "id": "296d48a9",
   "metadata": {
    "jupyter": {
     "source_hidden": true
    }
   },
   "outputs": [],
   "source": [
    "# Your answer here"
   ]
  },
  {
   "cell_type": "markdown",
   "id": "ed119496",
   "metadata": {},
   "source": [
    "**Q:** Name two ways to comment code."
   ]
  },
  {
   "cell_type": "code",
   "execution_count": null,
   "id": "e4c414cb",
   "metadata": {
    "jupyter": {
     "source_hidden": true
    }
   },
   "outputs": [],
   "source": [
    "# ANSWER (hidden by default)\n",
    "# Using # for single line or triple quotes ''' for multi-line strings."
   ]
  },
  {
   "cell_type": "code",
   "execution_count": null,
   "id": "8d326c98",
   "metadata": {
    "jupyter": {
     "source_hidden": true
    }
   },
   "outputs": [],
   "source": [
    "# Your answer here"
   ]
  },
  {
   "cell_type": "markdown",
   "id": "c518f061",
   "metadata": {},
   "source": [
    "## Loops & If Statements"
   ]
  },
  {
   "cell_type": "markdown",
   "id": "2e1ee8ab",
   "metadata": {},
   "source": [
    "**Q:** Write one line of code to loop over a list lakes and print each lake name."
   ]
  },
  {
   "cell_type": "code",
   "execution_count": null,
   "id": "1ddfc2cd",
   "metadata": {
    "jupyter": {
     "source_hidden": true
    }
   },
   "outputs": [],
   "source": [
    "# ANSWER (hidden by default)\n",
    "# for lake in lakes: print(lake)"
   ]
  },
  {
   "cell_type": "code",
   "execution_count": null,
   "id": "af98b0f6",
   "metadata": {
    "jupyter": {
     "source_hidden": true
    }
   },
   "outputs": [],
   "source": [
    "# Your answer here"
   ]
  },
  {
   "cell_type": "markdown",
   "id": "cdd969f3",
   "metadata": {},
   "source": [
    "**Q:** What’s the difference between == and = in an if statement?"
   ]
  },
  {
   "cell_type": "code",
   "execution_count": null,
   "id": "df267468",
   "metadata": {
    "jupyter": {
     "source_hidden": true
    }
   },
   "outputs": [],
   "source": [
    "# ANSWER (hidden by default)\n",
    "# '==' compares values; '=' assigns a value."
   ]
  },
  {
   "cell_type": "code",
   "execution_count": null,
   "id": "6b90bce7",
   "metadata": {
    "jupyter": {
     "source_hidden": true
    }
   },
   "outputs": [],
   "source": [
    "# Your answer here"
   ]
  },
  {
   "cell_type": "markdown",
   "id": "2746ccf6",
   "metadata": {},
   "source": [
    "**Q:** In a for loop, what does enumerate() add?"
   ]
  },
  {
   "cell_type": "code",
   "execution_count": null,
   "id": "9bb165d5",
   "metadata": {
    "jupyter": {
     "source_hidden": true
    }
   },
   "outputs": [],
   "source": [
    "# ANSWER (hidden by default)\n",
    "# It adds an index to each item."
   ]
  },
  {
   "cell_type": "code",
   "execution_count": null,
   "id": "946317b8",
   "metadata": {
    "jupyter": {
     "source_hidden": true
    }
   },
   "outputs": [],
   "source": [
    "# Your answer here"
   ]
  },
  {
   "cell_type": "markdown",
   "id": "cd0736c7",
   "metadata": {},
   "source": [
    "## Functions"
   ]
  },
  {
   "cell_type": "markdown",
   "id": "ac69f48b",
   "metadata": {},
   "source": [
    "**Q:** What is the keyword to define a function?"
   ]
  },
  {
   "cell_type": "code",
   "execution_count": null,
   "id": "9af91965",
   "metadata": {
    "jupyter": {
     "source_hidden": true
    }
   },
   "outputs": [],
   "source": [
    "# ANSWER (hidden by default)\n",
    "# def"
   ]
  },
  {
   "cell_type": "code",
   "execution_count": null,
   "id": "79314af9",
   "metadata": {
    "jupyter": {
     "source_hidden": true
    }
   },
   "outputs": [],
   "source": [
    "# Your answer here"
   ]
  },
  {
   "cell_type": "markdown",
   "id": "c12d8167",
   "metadata": {},
   "source": [
    "**Q:** How do you return a value from a function?"
   ]
  },
  {
   "cell_type": "code",
   "execution_count": null,
   "id": "645e1e8b",
   "metadata": {
    "jupyter": {
     "source_hidden": true
    }
   },
   "outputs": [],
   "source": [
    "# ANSWER (hidden by default)\n",
    "# Using the return statement."
   ]
  },
  {
   "cell_type": "code",
   "execution_count": null,
   "id": "f68dd676",
   "metadata": {
    "jupyter": {
     "source_hidden": true
    }
   },
   "outputs": [],
   "source": [
    "# Your answer here"
   ]
  },
  {
   "cell_type": "markdown",
   "id": "a4600693",
   "metadata": {},
   "source": [
    "**Q:** What’s a docstring?"
   ]
  },
  {
   "cell_type": "code",
   "execution_count": null,
   "id": "9a84b2bd",
   "metadata": {
    "jupyter": {
     "source_hidden": true
    }
   },
   "outputs": [],
   "source": [
    "# ANSWER (hidden by default)\n",
    "# A string that describes what a function or module does."
   ]
  },
  {
   "cell_type": "code",
   "execution_count": null,
   "id": "2b1a0c46",
   "metadata": {
    "jupyter": {
     "source_hidden": true
    }
   },
   "outputs": [],
   "source": [
    "# Your answer here"
   ]
  },
  {
   "cell_type": "markdown",
   "id": "07d029c9",
   "metadata": {},
   "source": [
    "**Q:** Local vs. global variables—what’s the difference?"
   ]
  },
  {
   "cell_type": "code",
   "execution_count": null,
   "id": "39fd52e5",
   "metadata": {
    "jupyter": {
     "source_hidden": true
    }
   },
   "outputs": [],
   "source": [
    "# ANSWER (hidden by default)\n",
    "# Local exists inside a function; global outside it."
   ]
  },
  {
   "cell_type": "code",
   "execution_count": null,
   "id": "b67ce716",
   "metadata": {
    "jupyter": {
     "source_hidden": true
    }
   },
   "outputs": [],
   "source": [
    "# Your answer here"
   ]
  },
  {
   "cell_type": "markdown",
   "id": "9466a6c7",
   "metadata": {},
   "source": [
    "## NumPy"
   ]
  },
  {
   "cell_type": "markdown",
   "id": "baad4609",
   "metadata": {},
   "source": [
    "**Q:** What’s one advantage of NumPy arrays over Python lists?"
   ]
  },
  {
   "cell_type": "code",
   "execution_count": null,
   "id": "fbd86c3b",
   "metadata": {
    "jupyter": {
     "source_hidden": true
    }
   },
   "outputs": [],
   "source": [
    "# ANSWER (hidden by default)\n",
    "# Faster and support vectorized operations."
   ]
  },
  {
   "cell_type": "code",
   "execution_count": null,
   "id": "9d2734c2",
   "metadata": {
    "jupyter": {
     "source_hidden": true
    }
   },
   "outputs": [],
   "source": [
    "# Your answer here"
   ]
  },
  {
   "cell_type": "markdown",
   "id": "636c2243",
   "metadata": {},
   "source": [
    "**Q:** What function creates evenly spaced numbers?"
   ]
  },
  {
   "cell_type": "code",
   "execution_count": null,
   "id": "30835e50",
   "metadata": {
    "jupyter": {
     "source_hidden": true
    }
   },
   "outputs": [],
   "source": [
    "# ANSWER (hidden by default)\n",
    "# np.linspace() or np.arange()."
   ]
  },
  {
   "cell_type": "code",
   "execution_count": null,
   "id": "e0dbee97",
   "metadata": {
    "jupyter": {
     "source_hidden": true
    }
   },
   "outputs": [],
   "source": [
    "# Your answer here"
   ]
  },
  {
   "cell_type": "markdown",
   "id": "58614258",
   "metadata": {},
   "source": [
    "**Q:** Given arr = np.array([1,2,3]), what is arr * 2?"
   ]
  },
  {
   "cell_type": "code",
   "execution_count": null,
   "id": "9b7c1f8a",
   "metadata": {
    "jupyter": {
     "source_hidden": true
    }
   },
   "outputs": [],
   "source": [
    "# ANSWER (hidden by default)\n",
    "# array([2,4,6])"
   ]
  },
  {
   "cell_type": "code",
   "execution_count": null,
   "id": "09ae083c",
   "metadata": {
    "jupyter": {
     "source_hidden": true
    }
   },
   "outputs": [],
   "source": [
    "# Your answer here"
   ]
  },
  {
   "cell_type": "markdown",
   "id": "98ad42b5",
   "metadata": {},
   "source": [
    "**Q:** How do you get the shape of an array?"
   ]
  },
  {
   "cell_type": "code",
   "execution_count": null,
   "id": "a9fc85a4",
   "metadata": {
    "jupyter": {
     "source_hidden": true
    }
   },
   "outputs": [],
   "source": [
    "# ANSWER (hidden by default)\n",
    "# arr.shape"
   ]
  },
  {
   "cell_type": "code",
   "execution_count": null,
   "id": "eb1f4b44",
   "metadata": {
    "jupyter": {
     "source_hidden": true
    }
   },
   "outputs": [],
   "source": [
    "# Your answer here"
   ]
  },
  {
   "cell_type": "markdown",
   "id": "242b1e8a",
   "metadata": {},
   "source": [
    "## Pandas Basics"
   ]
  },
  {
   "cell_type": "markdown",
   "id": "db996509",
   "metadata": {},
   "source": [
    "**Q:** Name the two main Pandas objects."
   ]
  },
  {
   "cell_type": "code",
   "execution_count": 2,
   "id": "eafe24ee",
   "metadata": {
    "jupyter": {
     "source_hidden": true
    }
   },
   "outputs": [],
   "source": [
    "# ANSWER (hidden by default)\n",
    "# Series and DataFrame."
   ]
  },
  {
   "cell_type": "code",
   "execution_count": null,
   "id": "e8c8088b",
   "metadata": {
    "jupyter": {
     "source_hidden": true
    }
   },
   "outputs": [],
   "source": [
    "# Your answer here"
   ]
  },
  {
   "cell_type": "markdown",
   "id": "6f8dcd6e",
   "metadata": {},
   "source": [
    "**Q:** How do you read a CSV into a DataFrame?"
   ]
  },
  {
   "cell_type": "code",
   "execution_count": null,
   "id": "480571d9",
   "metadata": {
    "jupyter": {
     "source_hidden": true
    }
   },
   "outputs": [],
   "source": [
    "# ANSWER (hidden by default)\n",
    "# pd.read_csv('filename.csv')"
   ]
  },
  {
   "cell_type": "code",
   "execution_count": null,
   "id": "8194441c",
   "metadata": {
    "jupyter": {
     "source_hidden": true
    }
   },
   "outputs": [],
   "source": [
    "# Your answer here"
   ]
  },
  {
   "cell_type": "markdown",
   "id": "8f2fd92d",
   "metadata": {},
   "source": [
    "**Q:** What is the main difference between .iloc and loc?"
   ]
  },
  {
   "cell_type": "code",
   "execution_count": null,
   "id": "927d2ef2",
   "metadata": {
    "jupyter": {
     "source_hidden": true
    }
   },
   "outputs": [],
   "source": [
    "# ANSWER (hidden by default)\n",
    "# iloc needs specific index locations while loc uses conditions"
   ]
  },
  {
   "cell_type": "code",
   "execution_count": null,
   "id": "9e3ff7bb",
   "metadata": {
    "jupyter": {
     "source_hidden": true
    }
   },
   "outputs": [],
   "source": [
    "# Your answer here"
   ]
  },
  {
   "cell_type": "markdown",
   "id": "b105b069",
   "metadata": {},
   "source": [
    "**Q:** How do you select a single column called 'Temp'?"
   ]
  },
  {
   "cell_type": "code",
   "execution_count": null,
   "id": "1feea019",
   "metadata": {
    "jupyter": {
     "source_hidden": true
    }
   },
   "outputs": [],
   "source": [
    "# ANSWER (hidden by default)\n",
    "# df['Temp'] or df.Temp"
   ]
  },
  {
   "cell_type": "code",
   "execution_count": null,
   "id": "626a4fe9",
   "metadata": {
    "jupyter": {
     "source_hidden": true
    }
   },
   "outputs": [],
   "source": [
    "# Your answer here"
   ]
  },
  {
   "cell_type": "markdown",
   "id": "9efe4385",
   "metadata": {},
   "source": [
    "## Pandas Operations"
   ]
  },
  {
   "cell_type": "markdown",
   "id": "31011995",
   "metadata": {},
   "source": [
    "**Q:** What method computes the mean of a column?"
   ]
  },
  {
   "cell_type": "code",
   "execution_count": null,
   "id": "e6d1432e",
   "metadata": {
    "jupyter": {
     "source_hidden": true
    }
   },
   "outputs": [],
   "source": [
    "# ANSWER (hidden by default)\n",
    "# df['col'].mean()"
   ]
  },
  {
   "cell_type": "code",
   "execution_count": null,
   "id": "2c75f5d9",
   "metadata": {
    "jupyter": {
     "source_hidden": true
    }
   },
   "outputs": [],
   "source": [
    "# Your answer here"
   ]
  },
  {
   "cell_type": "markdown",
   "id": "29c26fee",
   "metadata": {},
   "source": [
    "**Q:** How do you filter rows where Lake == 'Superior'? in a df with Lake as a column"
   ]
  },
  {
   "cell_type": "code",
   "execution_count": null,
   "id": "6f8a8805",
   "metadata": {
    "jupyter": {
     "source_hidden": true
    }
   },
   "outputs": [],
   "source": [
    "# ANSWER (hidden by default)\n",
    "# df[df['Lake']=='Superior']"
   ]
  },
  {
   "cell_type": "code",
   "execution_count": null,
   "id": "1e665b44",
   "metadata": {
    "jupyter": {
     "source_hidden": true
    }
   },
   "outputs": [],
   "source": [
    "# Your answer here"
   ]
  },
  {
   "cell_type": "markdown",
   "id": "5d413fbe",
   "metadata": {},
   "source": [
    "**Q:** Which method groups data by a column?"
   ]
  },
  {
   "cell_type": "code",
   "execution_count": 3,
   "id": "d5a19f3c",
   "metadata": {
    "jupyter": {
     "source_hidden": true
    }
   },
   "outputs": [],
   "source": [
    "# ANSWER (hidden by default)\n",
    "# groupby()"
   ]
  },
  {
   "cell_type": "code",
   "execution_count": null,
   "id": "db1dd75e",
   "metadata": {
    "jupyter": {
     "source_hidden": true
    }
   },
   "outputs": [],
   "source": [
    "# Your answer here"
   ]
  },
  {
   "cell_type": "markdown",
   "id": "088c7aa2",
   "metadata": {},
   "source": [
    "**Q:** Pivot tables vs. groupby — what’s the main difference?"
   ]
  },
  {
   "cell_type": "code",
   "execution_count": 4,
   "id": "45ddaa1f",
   "metadata": {
    "jupyter": {
     "source_hidden": true
    }
   },
   "outputs": [],
   "source": [
    "# ANSWER (hidden by default)\n",
    "# Pivot tables reshape data, groupby summarizes."
   ]
  },
  {
   "cell_type": "code",
   "execution_count": null,
   "id": "4851d363",
   "metadata": {
    "jupyter": {
     "source_hidden": true
    }
   },
   "outputs": [],
   "source": [
    "# Your answer here"
   ]
  },
  {
   "cell_type": "markdown",
   "id": "e47bd407",
   "metadata": {},
   "source": [
    "## Plotting"
   ]
  },
  {
   "cell_type": "markdown",
   "id": "ae71b7e1",
   "metadata": {},
   "source": [
    "**Q:** Which library provides the function plt.plot()?"
   ]
  },
  {
   "cell_type": "code",
   "execution_count": null,
   "id": "d494a758",
   "metadata": {
    "jupyter": {
     "source_hidden": true
    }
   },
   "outputs": [],
   "source": [
    "# ANSWER (hidden by default)\n",
    "# Matplotlib (pyplot)."
   ]
  },
  {
   "cell_type": "code",
   "execution_count": null,
   "id": "653a0807",
   "metadata": {
    "jupyter": {
     "source_hidden": true
    }
   },
   "outputs": [],
   "source": [
    "# Your answer here"
   ]
  },
  {
   "cell_type": "markdown",
   "id": "d5ea38a1",
   "metadata": {},
   "source": [
    "**Q:** How do you add an x-axis label?"
   ]
  },
  {
   "cell_type": "code",
   "execution_count": null,
   "id": "c99e4f4b",
   "metadata": {
    "jupyter": {
     "source_hidden": true
    }
   },
   "outputs": [],
   "source": [
    "# ANSWER (hidden by default)\n",
    "# plt.xlabel('label')"
   ]
  },
  {
   "cell_type": "code",
   "execution_count": null,
   "id": "58af23eb",
   "metadata": {
    "jupyter": {
     "source_hidden": true
    }
   },
   "outputs": [],
   "source": [
    "# Your answer here"
   ]
  },
  {
   "cell_type": "markdown",
   "id": "f46a8ef2",
   "metadata": {},
   "source": [
    "**Q:** How do you save a plot to a file?"
   ]
  },
  {
   "cell_type": "code",
   "execution_count": null,
   "id": "6460982c",
   "metadata": {
    "jupyter": {
     "source_hidden": true
    }
   },
   "outputs": [],
   "source": [
    "# ANSWER (hidden by default)\n",
    "# plt.savefig('filename.png')"
   ]
  },
  {
   "cell_type": "code",
   "execution_count": null,
   "id": "abe2f040",
   "metadata": {
    "jupyter": {
     "source_hidden": true
    }
   },
   "outputs": [],
   "source": [
    "# Your answer here"
   ]
  },
  {
   "cell_type": "markdown",
   "id": "9a6beb51",
   "metadata": {},
   "source": [
    "## Seaborn "
   ]
  },
  {
   "cell_type": "markdown",
   "id": "e5a2dc22",
   "metadata": {},
   "source": [
    "**Q:** What’s one advantage of Seaborn over Matplotlib?"
   ]
  },
  {
   "cell_type": "code",
   "execution_count": null,
   "id": "4f5bbb6a",
   "metadata": {
    "jupyter": {
     "source_hidden": true
    }
   },
   "outputs": [],
   "source": [
    "# ANSWER (hidden by default)\n",
    "# Prettier, higher-level statistical plots."
   ]
  },
  {
   "cell_type": "code",
   "execution_count": null,
   "id": "54d46187",
   "metadata": {
    "jupyter": {
     "source_hidden": true
    }
   },
   "outputs": [],
   "source": [
    "# Your answer here"
   ]
  },
  {
   "cell_type": "markdown",
   "id": "8cd80e21",
   "metadata": {},
   "source": [
    "**Q:** Name a Seaborn function that draws boxplots."
   ]
  },
  {
   "cell_type": "code",
   "execution_count": null,
   "id": "739b1806",
   "metadata": {
    "jupyter": {
     "source_hidden": true
    }
   },
   "outputs": [],
   "source": [
    "# ANSWER (hidden by default)\n",
    "# sns.boxplot()"
   ]
  },
  {
   "cell_type": "code",
   "execution_count": null,
   "id": "b22682a5",
   "metadata": {
    "jupyter": {
     "source_hidden": true
    }
   },
   "outputs": [],
   "source": [
    "# Your answer here"
   ]
  },
  {
   "cell_type": "markdown",
   "id": "2aa33512",
   "metadata": {},
   "source": [
    "## Maps"
   ]
  },
  {
   "cell_type": "markdown",
   "id": "f87a5991",
   "metadata": {},
   "source": [
    "**Q:** Name one Python library for geographic plots."
   ]
  },
  {
   "cell_type": "code",
   "execution_count": null,
   "id": "78eb3784",
   "metadata": {
    "jupyter": {
     "source_hidden": true
    }
   },
   "outputs": [],
   "source": [
    "# ANSWER (hidden by default)\n",
    "# Cartopy or GeoPandas."
   ]
  },
  {
   "cell_type": "code",
   "execution_count": null,
   "id": "faaa0216",
   "metadata": {
    "jupyter": {
     "source_hidden": true
    }
   },
   "outputs": [],
   "source": [
    "# Your answer here"
   ]
  },
  {
   "cell_type": "markdown",
   "id": "b5e603a3",
   "metadata": {},
   "source": [
    "**Q:** What’s the purpose of a projection in mapping?"
   ]
  },
  {
   "cell_type": "code",
   "execution_count": null,
   "id": "bfac843f",
   "metadata": {
    "jupyter": {
     "source_hidden": true
    }
   },
   "outputs": [],
   "source": [
    "# ANSWER (hidden by default)\n",
    "# It converts the globe to flat coordinates."
   ]
  },
  {
   "cell_type": "code",
   "execution_count": null,
   "id": "27128ff7",
   "metadata": {
    "jupyter": {
     "source_hidden": true
    }
   },
   "outputs": [],
   "source": [
    "# Your answer here"
   ]
  },
  {
   "cell_type": "markdown",
   "id": "9b480835",
   "metadata": {},
   "source": [
    "## Beyond Jupyter"
   ]
  },
  {
   "cell_type": "markdown",
   "id": "df27e7be",
   "metadata": {},
   "source": [
    "**Q:** Why use virtual environments?"
   ]
  },
  {
   "cell_type": "code",
   "execution_count": null,
   "id": "c23379c2",
   "metadata": {
    "jupyter": {
     "source_hidden": true
    }
   },
   "outputs": [],
   "source": [
    "# ANSWER (hidden by default)\n",
    "# To isolate dependencies per project."
   ]
  },
  {
   "cell_type": "code",
   "execution_count": null,
   "id": "c05c767b",
   "metadata": {
    "jupyter": {
     "source_hidden": true
    }
   },
   "outputs": [],
   "source": [
    "# Your answer here"
   ]
  },
  {
   "cell_type": "markdown",
   "id": "3b06fbe4",
   "metadata": {},
   "source": [
    "**Q:** What’s a .py file compared to a Jupyter notebook?"
   ]
  },
  {
   "cell_type": "code",
   "execution_count": null,
   "id": "77bd0e51",
   "metadata": {
    "jupyter": {
     "source_hidden": true
    }
   },
   "outputs": [],
   "source": [
    "# ANSWER (hidden by default)\n",
    "# A plain Python script without cell structure."
   ]
  },
  {
   "cell_type": "code",
   "execution_count": null,
   "id": "390ee1fc",
   "metadata": {
    "jupyter": {
     "source_hidden": true
    }
   },
   "outputs": [],
   "source": [
    "# Your answer here"
   ]
  }
 ],
 "metadata": {
  "kernelspec": {
   "display_name": "Python (py101)",
   "language": "python",
   "name": "py101"
  },
  "language_info": {
   "codemirror_mode": {
    "name": "ipython",
    "version": 3
   },
   "file_extension": ".py",
   "mimetype": "text/x-python",
   "name": "python",
   "nbconvert_exporter": "python",
   "pygments_lexer": "ipython3",
   "version": "3.12.8"
  }
 },
 "nbformat": 4,
 "nbformat_minor": 5
}
