{
 "cells": [
  {
   "cell_type": "markdown",
   "metadata": {
    "id": "G4dr3oF9MGnx"
   },
   "source": [
    "# Day 4: Welcome to Functions\n",
    "\n",
    "Instructor: Maria D Hernandez Limon\n",
    "\n",
    "Notebook creator: Katie Dixon and Maria D Hernandez Limon\n",
    "\n",
    "**AI assistance:** Maria used ChatGPT on *Aug2025* to help with commenting code, brainstorm and design of homework problems. **AI assistance:** Maria used ChatGPT on *Aug2025* to help with commenting code, brainstorm and design of homework problems.\n",
    "I reviewed/edited the code, added comments, and validated results with tests/spot checks.\n",
    "\n",
    "Functions are incredible tools that you can write when Python or a package doesn't have what you want to do. We had some experience last week using functions built into the package `numpy`. Defining your own function allows you to know exactly what is going on behind the scenes and do new things. \n",
    "\n",
    "Functions are named blocks of code that are designed to do a specific job. Examples could be doing an equation or plotting data. When you want to perform the task, you call the function instead of writing out all the code inside it. \n",
    "\n",
    "First you define the function by using `def`, then you name the function some explanatory name to call it later. Then you tell the function what arguments it will take in. Next you tell the function what to do with those arguments. \n",
    "\n",
    "Goals\n",
    "\n",
    "* Function that prints outputs\n",
    "* Functions that return statements\n",
    "* Using a list as an argument\n",
    "* Using dictionaries as arguments\n",
    "* Passing arbitrary number of arguments to the function"
   ]
  },
  {
   "cell_type": "code",
   "execution_count": null,
   "metadata": {},
   "outputs": [],
   "source": [
    "#import libraries\n",
    "import numpy as np"
   ]
  },
  {
   "cell_type": "markdown",
   "metadata": {
    "id": "uNiw6CiS5fv6"
   },
   "source": [
    "# 1.0 Function that takes in a variable and prints response \n",
    "\n",
    "We will start with a simple function and then work our way up. The function we will create will take in some **argument** `name` and then return a statement saying hello with the name! This would be helpful if you had many people to say hello to.\n",
    "\n",
    "We first use `def`, then name our function, and put our argument in parenthesis. Then on the end of our first line, we have a colon. After the colon, we tell Python everything we want to include by starting the line with a tab. \n",
    "\n",
    "When naming functions use action words that make it easy to tell what the function does and separate words with an underscore like: compute_max, plot_temperature. Never start a function name with a number!! \n",
    "\n",
    "If you must you can do _2d_array_test starting with an _"
   ]
  },
  {
   "cell_type": "code",
   "execution_count": null,
   "metadata": {
    "colab": {
     "base_uri": "https://localhost:8080/"
    },
    "executionInfo": {
     "elapsed": 9,
     "status": "ok",
     "timestamp": 1625081984463,
     "user": {
      "displayName": "Jess Senger",
      "photoUrl": "",
      "userId": "08376289370634799181"
     },
     "user_tz": 300
    },
    "id": "GRDWAUa5Nl-1",
    "outputId": "c887643e-2e4a-4dfc-8bcf-b85cd2b45018"
   },
   "outputs": [],
   "source": [
    "# define our function\n",
    "def greet_user(name):\n",
    "    '''Welcomes the user with input name''' # this is called a docstring\n",
    "    print(f\"Welcome {name}!\") # this is the f string that we learned last week\n",
    "\n",
    "# then run our new function\n",
    "greet_user(\"Katie\")"
   ]
  },
  {
   "cell_type": "markdown",
   "metadata": {
    "id": "2fmQWu1GcjS0"
   },
   "source": [
    "We can now use our function to welcome different people, by inputting different names as the arguments:"
   ]
  },
  {
   "cell_type": "code",
   "execution_count": null,
   "metadata": {
    "colab": {
     "base_uri": "https://localhost:8080/"
    },
    "executionInfo": {
     "elapsed": 519,
     "status": "ok",
     "timestamp": 1625082140381,
     "user": {
      "displayName": "Jess Senger",
      "photoUrl": "",
      "userId": "08376289370634799181"
     },
     "user_tz": 300
    },
    "id": "T-0NWzTMPNRX",
    "outputId": "851731b4-175d-43d7-a3b0-00c4f963856e"
   },
   "outputs": [],
   "source": [
    "greet_user(\"Alex\") # run the function to greet Alex\n",
    "\n",
    "greet_user(\"Zach Efron\") # run the function to greet Zach Efron\n",
    "\n",
    "greet_user(11) # when putting in a number, the f string converts it to a string"
   ]
  },
  {
   "cell_type": "markdown",
   "metadata": {
    "id": "xYsyf6upxZDF"
   },
   "source": [
    "On the second line there is a `docstring` which allows you to write the aim for the function. You can call up this documentation using `__doc__` (which is two underscores on each side). The purpose of this is a short string that documents what the function is used for."
   ]
  },
  {
   "cell_type": "code",
   "execution_count": null,
   "metadata": {
    "colab": {
     "base_uri": "https://localhost:8080/",
     "height": 35
    },
    "executionInfo": {
     "elapsed": 227,
     "status": "ok",
     "timestamp": 1625082143935,
     "user": {
      "displayName": "Jess Senger",
      "photoUrl": "",
      "userId": "08376289370634799181"
     },
     "user_tz": 300
    },
    "id": "qsA2TTJIwzq3",
    "outputId": "b47ac795-0e21-416a-db26-30842bab9fa1"
   },
   "outputs": [],
   "source": [
    "greet_user.__doc__"
   ]
  },
  {
   "cell_type": "markdown",
   "metadata": {
    "id": "gVuOvxZIzcgh"
   },
   "source": [
    "You can also call this up by using the built in function `help` to call information up. This also works on other built in functions and functions from packages."
   ]
  },
  {
   "cell_type": "code",
   "execution_count": null,
   "metadata": {
    "colab": {
     "base_uri": "https://localhost:8080/"
    },
    "executionInfo": {
     "elapsed": 298,
     "status": "ok",
     "timestamp": 1625082150319,
     "user": {
      "displayName": "Jess Senger",
      "photoUrl": "",
      "userId": "08376289370634799181"
     },
     "user_tz": 300
    },
    "id": "KyehwRe8xA75",
    "outputId": "f7745611-474f-4b44-9e0f-30315768d873"
   },
   "outputs": [],
   "source": [
    "help(greet_user)"
   ]
  },
  {
   "cell_type": "markdown",
   "metadata": {
    "id": "WiEz0V-F4CA3"
   },
   "source": [
    "We can also use `help` and `__doc__` to get information on built in functions, like `len` from Day2, which is similar to doing `?len`"
   ]
  },
  {
   "cell_type": "code",
   "execution_count": null,
   "metadata": {
    "colab": {
     "base_uri": "https://localhost:8080/"
    },
    "executionInfo": {
     "elapsed": 254,
     "status": "ok",
     "timestamp": 1625082164594,
     "user": {
      "displayName": "Jess Senger",
      "photoUrl": "",
      "userId": "08376289370634799181"
     },
     "user_tz": 300
    },
    "id": "16j9mOHMzk3q",
    "outputId": "7caf8163-bd76-468f-b8dd-54f636870f3f"
   },
   "outputs": [],
   "source": [
    "help(len) # get information on the built in function len"
   ]
  },
  {
   "cell_type": "code",
   "execution_count": null,
   "metadata": {},
   "outputs": [],
   "source": [
    "?len"
   ]
  },
  {
   "cell_type": "code",
   "execution_count": null,
   "metadata": {},
   "outputs": [],
   "source": [
    "len.__doc__ # the doc string "
   ]
  },
  {
   "cell_type": "markdown",
   "metadata": {
    "id": "ZI4u_Tgy4Z0K"
   },
   "source": [
    "# 2.0 The ordering of arguments in the function is important\n",
    "\n",
    "We will write an example that uses in multiple arguments, the year, month, and day into a function we name `print_date` and it will return the date for us in scientific notation. \n",
    "\n",
    "When we call the function, we make sure to insert the year, month, and day in the correct order that we made when we set up the arguments in our function:"
   ]
  },
  {
   "cell_type": "code",
   "execution_count": null,
   "metadata": {
    "colab": {
     "base_uri": "https://localhost:8080/"
    },
    "executionInfo": {
     "elapsed": 210,
     "status": "ok",
     "timestamp": 1625082193577,
     "user": {
      "displayName": "Jess Senger",
      "photoUrl": "",
      "userId": "08376289370634799181"
     },
     "user_tz": 300
    },
    "id": "HAqBkL5sPhVK",
    "outputId": "f8d320fc-532a-47d3-d23e-8aa9cbae30b6"
   },
   "outputs": [],
   "source": [
    "def print_date(year, month, day): # the order is year, month, day\n",
    "    \"\"\"Takes in year, month, and day and prints date\"\"\"\n",
    "    joined = str(year) + '-' + str(month) + '-' + str(day) # make each day a string and then add together\n",
    "    print(joined)\n",
    "\n",
    "# lets print out Nov 12th in 2020\n",
    "print_date(2020, 11, 12) # the order is year, month day"
   ]
  },
  {
   "cell_type": "markdown",
   "metadata": {
    "id": "zXPyPQs3dBEl"
   },
   "source": [
    "We can test out what happens if we put them in a different order. For example, month, day, year. The output will not be in the order we intended, which could mess up our data analysis. "
   ]
  },
  {
   "cell_type": "code",
   "execution_count": null,
   "metadata": {
    "colab": {
     "base_uri": "https://localhost:8080/"
    },
    "executionInfo": {
     "elapsed": 217,
     "status": "ok",
     "timestamp": 1625082210166,
     "user": {
      "displayName": "Jess Senger",
      "photoUrl": "",
      "userId": "08376289370634799181"
     },
     "user_tz": 300
    },
    "id": "zIy45_zpQyDk",
    "outputId": "873b4d68-645d-4705-ab25-007eb67b655c"
   },
   "outputs": [],
   "source": [
    "# the November 12, 2020 the American way\n",
    "\n",
    "print_date(11, 12, 2020) # the order in the function is year, month, day"
   ]
  },
  {
   "cell_type": "markdown",
   "metadata": {
    "id": "r9ATT9aPdKTo"
   },
   "source": [
    "We can fix this by being explicit in calling our function, and typing `year = 2020` for example. This way, we are telling our function exactly which value to use for each argument, and it makes our code more readable in the future. This is the best practice for calling functions and is set up so that `keyword = value`:"
   ]
  },
  {
   "cell_type": "code",
   "execution_count": null,
   "metadata": {
    "colab": {
     "base_uri": "https://localhost:8080/"
    },
    "executionInfo": {
     "elapsed": 221,
     "status": "ok",
     "timestamp": 1625082221133,
     "user": {
      "displayName": "Jess Senger",
      "photoUrl": "",
      "userId": "08376289370634799181"
     },
     "user_tz": 300
    },
    "id": "5Uh3KDw2QnsM",
    "outputId": "0f4f6821-d4a8-49f4-fef5-ca666222483d"
   },
   "outputs": [],
   "source": [
    "# the scientific ordering\n",
    "print_date(year = 2020, month = 11, day = 12)\n",
    "\n",
    "# the american ordering\n",
    "print_date(day = 12, month = 11, year = 2020)"
   ]
  },
  {
   "cell_type": "markdown",
   "metadata": {
    "id": "8a055PykeBrR"
   },
   "source": [
    "This is also nice, because now the order doesn't matter, because we are explicitly linking the values to the variables, so even if we switch up the order of the variables, the function `print_date` knows what input you're trying to give it."
   ]
  },
  {
   "cell_type": "markdown",
   "metadata": {
    "id": "czy4xOhmeNvL"
   },
   "source": [
    "# 3.0 Saving the output of the function to a variable\n",
    "\n",
    "Say we want to save this date as something, we might try to call our function `print_date` and save it to a variable `my_date`:\n"
   ]
  },
  {
   "cell_type": "code",
   "execution_count": null,
   "metadata": {
    "colab": {
     "base_uri": "https://localhost:8080/"
    },
    "executionInfo": {
     "elapsed": 216,
     "status": "ok",
     "timestamp": 1625082258130,
     "user": {
      "displayName": "Jess Senger",
      "photoUrl": "",
      "userId": "08376289370634799181"
     },
     "user_tz": 300
    },
    "id": "_0VPeZMAL4ig",
    "outputId": "3f066f94-137d-4b0b-9143-b5d6173a3ef3"
   },
   "outputs": [],
   "source": [
    "my_date = print_date(year = 2011, month = 5, day = 10)"
   ]
  },
  {
   "cell_type": "code",
   "execution_count": null,
   "metadata": {
    "id": "55slv07r1ZN-"
   },
   "outputs": [],
   "source": [
    "print(my_date)"
   ]
  },
  {
   "cell_type": "markdown",
   "metadata": {
    "id": "mg1w80VHg5M0"
   },
   "source": [
    "`my_date` now has the value `None`, which is not what we intended. If we look at what our function is designed to do, we see that it is set to just print out the date. If we want to be able to assign the value to something, we must instead change it to `return` a value.\n",
    "\n",
    "We're going to change the name of the function to be `return_date` to distinguish it from `print_date`. You can see that it's not that different from our previous function"
   ]
  },
  {
   "cell_type": "code",
   "execution_count": null,
   "metadata": {
    "colab": {
     "base_uri": "https://localhost:8080/"
    },
    "executionInfo": {
     "elapsed": 560,
     "status": "ok",
     "timestamp": 1625082279326,
     "user": {
      "displayName": "Jess Senger",
      "photoUrl": "",
      "userId": "08376289370634799181"
     },
     "user_tz": 300
    },
    "id": "M81kyhccQ8mR",
    "outputId": "123057d3-6ccb-4ef0-9537-558a9be72eac"
   },
   "outputs": [],
   "source": [
    "def return_date(year, month, day): # the order is year, month, day\n",
    "    \"\"\"Takes in year, month, and day and returns date\"\"\"\n",
    "    joined = str(year) + '-' + str(month) + '-' + str(day)\n",
    "    return(joined)\n",
    "\n",
    "my_date = return_date(year = 2011, month = 5, day = 10) # will not print anything by itself\n"
   ]
  },
  {
   "cell_type": "code",
   "execution_count": null,
   "metadata": {},
   "outputs": [],
   "source": [
    "print(my_date)"
   ]
  },
  {
   "cell_type": "markdown",
   "metadata": {
    "id": "8O59wMZFrPqx"
   },
   "source": [
    "# 4.0 Check-in [1]\n",
    "\n",
    "Write a function that takes in radius as an argument, `r`, and returns the area of a circle given the radius (A = $\\pi r^2$). Python doesn't have a built in value for `pi`, so we will import `numpy` in the next cell and call up `np.pi` to use it. \n",
    "\n",
    "*Advanced:* add a second argument to the function that takes in either `\"square\"` or `\"circle\"`, which will calculate the area of a circle with radius `r` or a square with a side of `r` depending on that argument (using an `elif` statement). This function should also tell the user that it doesn't know the shape if it isn't a circle or square."
   ]
  },
  {
   "cell_type": "code",
   "execution_count": null,
   "metadata": {},
   "outputs": [],
   "source": [
    "import numpy as np\n",
    "print(round(np.pi,8))"
   ]
  },
  {
   "cell_type": "code",
   "execution_count": null,
   "metadata": {
    "id": "wmfFeWEv5yP9"
   },
   "outputs": [],
   "source": [
    "### space to put your code here\n",
    "\n",
    "\n",
    "\n"
   ]
  },
  {
   "cell_type": "code",
   "execution_count": null,
   "metadata": {},
   "outputs": [],
   "source": [
    "## your code\n",
    "\n",
    "\n",
    "\n",
    "\n",
    "\n"
   ]
  },
  {
   "cell_type": "markdown",
   "metadata": {
    "id": "X5FRIroAhrAy"
   },
   "source": [
    "# 5.0 Using a list as an argument\n",
    "\n",
    "Here, we will show that a function can take a list as an argument using a `for` loop. We will give a function `zoo_animals` a list of animals, and then the function will tell us the zoo has that animal, by looping through the values in the list."
   ]
  },
  {
   "cell_type": "code",
   "execution_count": null,
   "metadata": {
    "colab": {
     "base_uri": "https://localhost:8080/"
    },
    "executionInfo": {
     "elapsed": 366,
     "status": "ok",
     "timestamp": 1625082615761,
     "user": {
      "displayName": "Jess Senger",
      "photoUrl": "",
      "userId": "08376289370634799181"
     },
     "user_tz": 300
    },
    "id": "KqsZij0dix8K",
    "outputId": "6c5d01ed-728d-46fb-89b8-0a207c43a302"
   },
   "outputs": [],
   "source": [
    "def zoo_animals(animal):\n",
    "    \"\"\"Takes in a list of animals and prints a string for each animal\"\"\"\n",
    "    for x in animal:\n",
    "        print(f'The zoo has a {x}')\n",
    "\n",
    "animals = [\"tiger\", \"lion\", \"bear\"]\n",
    "\n",
    "zoo_animals(animals)"
   ]
  },
  {
   "cell_type": "markdown",
   "metadata": {
    "id": "_PALsPEn4JZK"
   },
   "source": [
    "# 6.0 Using dictionaries as arguments\n",
    "\n",
    "This is a nice way of keeping your code very readable and can allow you to switch between many parameter sets. It would also allow you to input the same parameter sets into multiple functions, without allowing for the possibility of mistyping your arguments. First, we define our function, which takes in name, school, city, and state and returns a statement using an `f string`:"
   ]
  },
  {
   "cell_type": "code",
   "execution_count": null,
   "metadata": {
    "id": "NzKIWG9v3fds"
   },
   "outputs": [],
   "source": [
    "def student_information(name, school, city, state):\n",
    "    \"\"\"Prints out the information for a student\"\"\"\n",
    "    print(f'{name} goes to the {school} in {city}, {state}')"
   ]
  },
  {
   "cell_type": "markdown",
   "metadata": {
    "id": "vZvBOgmkrdh-"
   },
   "source": [
    "Now, we will create two dictionaries for two students, and then pass them into our student information dictionary.\n",
    "\n",
    "Note: this is one of the ways to write a dictionary, using the curly brackets to write it all out: `{key1:value1, key2:value2}`"
   ]
  },
  {
   "cell_type": "code",
   "execution_count": null,
   "metadata": {
    "colab": {
     "base_uri": "https://localhost:8080/"
    },
    "executionInfo": {
     "elapsed": 215,
     "status": "ok",
     "timestamp": 1625082641336,
     "user": {
      "displayName": "Jess Senger",
      "photoUrl": "",
      "userId": "08376289370634799181"
     },
     "user_tz": 300
    },
    "id": "x-piLgkJrEjg",
    "outputId": "e6982723-74c1-4d20-db89-883529abd8ff"
   },
   "outputs": [],
   "source": [
    "# dictionary for student one\n",
    "\n",
    "student_1 = {\"name\": \"Katie\", \"school\": \"University of Chicago\", \"city\": \"Chicago\", \"state\": \"IL\"}\n",
    "# dictionary for student two\n",
    "student_2 = {\"name\": \"Michelle Obama\", \"school\": \"Princeton University\", \"city\": \"Princeton\", \"state\": \"NJ\"}\n",
    "\n",
    "# use the function to print out student information for 2 students\n",
    "# need to use ** to tell Python we are inputting a dictionary\n",
    "student_information(**student_1)\n",
    "student_information(**student_2)\n"
   ]
  },
  {
   "cell_type": "markdown",
   "metadata": {
    "id": "4ykTyhtUruxw"
   },
   "source": [
    "This is the same thing as writing it inside the function call, but it would be easier if you need this parameter set for multiple functions"
   ]
  },
  {
   "cell_type": "code",
   "execution_count": null,
   "metadata": {
    "colab": {
     "base_uri": "https://localhost:8080/"
    },
    "executionInfo": {
     "elapsed": 233,
     "status": "ok",
     "timestamp": 1625082668242,
     "user": {
      "displayName": "Jess Senger",
      "photoUrl": "",
      "userId": "08376289370634799181"
     },
     "user_tz": 300
    },
    "id": "bR2Cj4AormZ7",
    "outputId": "bb1fcb22-0e0b-45c1-f7b7-4eea34791670"
   },
   "outputs": [],
   "source": [
    "student_information(name = \"Katie\", school = \"University of Chicago\", city = \"Chicago\", state = \"IL\")"
   ]
  },
  {
   "cell_type": "markdown",
   "metadata": {},
   "source": [
    "# 7.0 Fixed variables"
   ]
  },
  {
   "cell_type": "markdown",
   "metadata": {
    "id": "hh9RPvw5nFaw"
   },
   "source": [
    "# 8.0 Check-in [2]\n",
    "\n",
    "Write a function called `get_hypotenuse` that takes in the two sides of a right triangle as arguments from a dictionary, and the returns the hypotenuse using the pythagorean theorem. Remember, that equation is:\n",
    "\n",
    "$$c = \\sqrt{a^2 + b^2}$$\n",
    "\n",
    "Also remember that the square root (try using the function from numpy) is the same as raising somethign to the $\\frac{1}{2}$.\n",
    "\n",
    "Test out some different values for `a` and `b`. \n",
    "Hint: If you try 3,4 you should get 5. "
   ]
  },
  {
   "cell_type": "code",
   "execution_count": null,
   "metadata": {
    "id": "mjCR_jRtsj59"
   },
   "outputs": [],
   "source": [
    "## coding check in here\n",
    "\n",
    "\n",
    "\n",
    "\n",
    "\n",
    "\n"
   ]
  },
  {
   "cell_type": "markdown",
   "metadata": {},
   "source": [
    "# 8.0 Reading and writing data, data analysis\n",
    "\n",
    "Many of us either perform our experiments or use external data, which generally involves taking in the data and processing it in some way. Here we will perform a little experiment on the importance of sample size in your data. Obviously, bigger sample sizes are always better, but the amount of effort increases. \n",
    "\n",
    "We are going to generate a set of values using the `random.normal` function in `numpy`, which takes in a value for `loc` (the mean) and the `scale` (the standard devation) and the `size` (the number of values you want to return). We will do this for several different sample sizes with the same mean and standard devation. \n",
    "\n",
    "Here is the order of the actions we will perform\n",
    "* Generate our data for 5 sample sizes with a mean of 70 and standard deviation of 10\n",
    "* Save our data using the `numpy` function `savetxt`\n",
    "* Write a function that will calculate the mean and standard deviation\n",
    "* Use a for loop to read in our data using the `numpy` function `loadtxt` and analyse the data\n"
   ]
  },
  {
   "cell_type": "code",
   "execution_count": null,
   "metadata": {},
   "outputs": [],
   "source": [
    "sample1 = np.random.normal(loc = 70, scale = 10, size = 2)\n",
    "sample2 = np.random.normal(loc = 70, scale = 10, size = 10)\n",
    "sample3 = np.random.normal(loc = 70, scale = 10, size = 20)\n",
    "sample4 = np.random.normal(loc = 70, scale = 10, size = 100)\n",
    "sample5 = np.random.normal(loc = 70, scale = 10, size = 1000)\n",
    "\n",
    "print(sample3) \n",
    "# just as an example to see the data we are generating\n",
    "# from a random normal distribution"
   ]
  },
  {
   "cell_type": "markdown",
   "metadata": {},
   "source": [
    "Next, we set our directory we want to save our output to.\n",
    "\n",
    "Then, we save our data to our different files with the `numpy` function `savetxt`. The `fname` is the filename, `X` is the data, and `delimeter` is how we want the file to be written, in this case separating each data value with a comma."
   ]
  },
  {
   "cell_type": "code",
   "execution_count": null,
   "metadata": {},
   "outputs": [],
   "source": [
    "savedir = '../output/'  \n",
    "\n",
    "np.savetxt(fname = savedir+'sample1.txt', X = sample1, delimiter=',')\n",
    "np.savetxt(fname = savedir+'sample2.txt', X = sample2, delimiter=',')\n",
    "np.savetxt(fname = savedir+'sample3.txt', X = sample3, delimiter=',')\n",
    "np.savetxt(fname = savedir+'sample4.txt', X = sample4, delimiter=',')\n",
    "np.savetxt(fname = savedir+'sample5.txt', X = sample5, delimiter=',')"
   ]
  },
  {
   "cell_type": "markdown",
   "metadata": {},
   "source": [
    "Next, we write a function called `get_stats` that will calculate our parameters of interest."
   ]
  },
  {
   "cell_type": "code",
   "execution_count": null,
   "metadata": {},
   "outputs": [],
   "source": [
    "def get_stats(data):\n",
    "    \"\"\"Prints out the sample size, mean, and std for a set of data \"\"\"\n",
    "    sample_size = len(data) # the sample size\n",
    "    mean_val = round(np.mean(data),2) # the mean\n",
    "    std_val = round(np.std(data),2) # the standard deviation\n",
    "    \n",
    "    print(f'The mean for a sample size of {sample_size} is {mean_val} and the standard deviation is {std_val}')\n",
    "        "
   ]
  },
  {
   "cell_type": "code",
   "execution_count": null,
   "metadata": {},
   "outputs": [],
   "source": [
    "loaddir = '../output/' #Make sure the paths end in '/'\n",
    "\n",
    "# make a dictionary\n",
    "filenames = ['sample1.txt','sample2.txt','sample3.txt', 'sample4.txt','sample5.txt']\n",
    "\n",
    "for file in filenames:\n",
    "    # read in the data\n",
    "    data = np.loadtxt(loaddir+file, delimiter=',')\n",
    "    \n",
    "    get_stats(data)"
   ]
  },
  {
   "cell_type": "markdown",
   "metadata": {},
   "source": [
    "# 10.0 Check-in [3]\n",
    "\n",
    "Say I'm arguing with my friends about who the tallest basketball team in the NBA is. I'm also interested in what the tallest height on each team is. \n",
    "\n",
    "I've included three files under the `data` folder in the repository, for the Cleveland Cavaliers, the Chicago Bulls, and the Los Angeles Lakers. First, we can take a quick look at what the data looks like."
   ]
  },
  {
   "cell_type": "code",
   "execution_count": null,
   "metadata": {},
   "outputs": [],
   "source": [
    "loaddir = '../data/' #Make sure the paths end in '/'\n",
    "\n",
    "# make a dictionary\n",
    "filenames = ['Cavs.txt','Bulls.txt','Lakers.txt']\n",
    "\n",
    "#let's open quickly and look at one file\n",
    "np.loadtxt(loaddir+filenames[0], delimiter=',')"
   ]
  },
  {
   "cell_type": "markdown",
   "metadata": {},
   "source": [
    "In a for loop, read in the data and use a function that takes in the `data` and `teamname` return the mean and the max for each team! We've already loaded in `numpy` so you can use functions you learned last week for mean and max."
   ]
  },
  {
   "cell_type": "code",
   "execution_count": null,
   "metadata": {},
   "outputs": [],
   "source": [
    "# set your directory\n",
    "loaddir = \n",
    "\n",
    "# make a dictionary with team and corresponding file \n",
    "teams=\n",
    "filenames=\n",
    "bball_dict=\n",
    "\n",
    "# confirm dictiory has team and corresponding file \n",
    "bball_dict"
   ]
  },
  {
   "cell_type": "code",
   "execution_count": null,
   "metadata": {},
   "outputs": [],
   "source": [
    "# make a fucntion \n",
    "\n",
    "def get_bball_stats(data, team_name):\n",
    "    \"\"\"Prints out the mean and max for each team \"\"\"\n",
    "    #use np to find the mean \n",
    "    # and max\n",
    "    # use a print statement to output the team name the mean and who the tallest player is (max)\n",
    "    "
   ]
  },
  {
   "cell_type": "code",
   "execution_count": null,
   "metadata": {},
   "outputs": [],
   "source": [
    "# loop through your data and use your function\n",
    "for team in teams:\n",
    "    # idenrify the data file with your dictionary using team\n",
    "    file = \n",
    "    #load in the data with np.loadtxt\n",
    "    data = \n",
    "    #pass the data and team information into your function \n",
    "    get_bball_stats()"
   ]
  },
  {
   "cell_type": "markdown",
   "metadata": {
    "id": "OEPd9RT31_oR"
   },
   "source": [
    "# 11.0 Using `*args` and `**kwargs` in functions\n",
    "\n",
    "There are certain tricks that you can use when making functions. The first is by using `*args` when you are unsure of how many arguements you are going to pass to the function. An example might be if you're trying to add numbers together, but you might have different numbers of parameters, you might be adding a varying number. We can create a function that adds three numbers together:"
   ]
  },
  {
   "cell_type": "code",
   "execution_count": null,
   "metadata": {},
   "outputs": [],
   "source": [
    "def add_stuff(x,y,z):\n",
    "    \"\"\"adding three numbers\"\"\"\n",
    "    print('sum:', x + y + z)"
   ]
  },
  {
   "cell_type": "code",
   "execution_count": null,
   "metadata": {},
   "outputs": [],
   "source": [
    "add_stuff(1,4,5)"
   ]
  },
  {
   "cell_type": "markdown",
   "metadata": {},
   "source": [
    "What do you think will happen if instead we try to add four numbers together:"
   ]
  },
  {
   "cell_type": "code",
   "execution_count": null,
   "metadata": {},
   "outputs": [],
   "source": [
    "add_stuff(1,4,5,10)"
   ]
  },
  {
   "cell_type": "markdown",
   "metadata": {
    "id": "BEnj3cdXvFO3"
   },
   "source": [
    "We can fix this by using an argument `*args` where before we put our arguments. Inside of that, we first set up a variable, `x` to be 0, and then we are going to add numbers to `x` using a for loop, that will go over each element in args. This `*args` now accepts any number of positional arguements:"
   ]
  },
  {
   "cell_type": "code",
   "execution_count": null,
   "metadata": {
    "colab": {
     "base_uri": "https://localhost:8080/"
    },
    "executionInfo": {
     "elapsed": 239,
     "status": "ok",
     "timestamp": 1625082781721,
     "user": {
      "displayName": "Jess Senger",
      "photoUrl": "",
      "userId": "08376289370634799181"
     },
     "user_tz": 300
    },
    "id": "Weou8NGDunyg",
    "outputId": "98123687-d34c-4bab-9851-dd4b6320b976"
   },
   "outputs": [],
   "source": [
    "def add_stuff(*args):\n",
    "    \"\"\"Prints out the sum of the arguments\"\"\"\n",
    "    x = 0\n",
    "    for num in args:\n",
    "        x = x + num\n",
    "        print(x) # printing out x each time it updates, to peak inside the function\n",
    "    print('sum:', x)\n",
    "\n",
    "add_stuff(1,2,3,4,5)"
   ]
  },
  {
   "cell_type": "markdown",
   "metadata": {
    "id": "Jh2tUyquwNEA"
   },
   "source": [
    "So, we saw what happened when we put in 5 arguments, now what happens when we put in three:"
   ]
  },
  {
   "cell_type": "code",
   "execution_count": null,
   "metadata": {
    "colab": {
     "base_uri": "https://localhost:8080/"
    },
    "executionInfo": {
     "elapsed": 206,
     "status": "ok",
     "timestamp": 1625082784973,
     "user": {
      "displayName": "Jess Senger",
      "photoUrl": "",
      "userId": "08376289370634799181"
     },
     "user_tz": 300
    },
    "id": "7kW-3Fj_wI1J",
    "outputId": "2a3e75a2-6506-4644-e3a1-6e400685a741"
   },
   "outputs": [],
   "source": [
    "add_stuff(100,200,300,400,500,100)"
   ]
  },
  {
   "cell_type": "code",
   "execution_count": null,
   "metadata": {},
   "outputs": [],
   "source": [
    "add_stuff(100)"
   ]
  },
  {
   "cell_type": "markdown",
   "metadata": {
    "id": "xh2XCFuYwVs4"
   },
   "source": [
    "The second trick I want to go over is using `**kwargs`. This is basically just telling the function that you are going to pass an arbitrary number of keyword arguments that you haven't define beforehand. The main difference is that `*args` creates a tuple while `*kwargs` creates a dictionary that can be referenced by the function."
   ]
  },
  {
   "cell_type": "code",
   "execution_count": null,
   "metadata": {
    "colab": {
     "base_uri": "https://localhost:8080/"
    },
    "executionInfo": {
     "elapsed": 287,
     "status": "ok",
     "timestamp": 1626108821922,
     "user": {
      "displayName": "Katerina Levi",
      "photoUrl": "",
      "userId": "14790590329608039426"
     },
     "user_tz": 240
    },
    "id": "KitTVSlTtsI-",
    "outputId": "479331f4-899e-421b-95a9-1c3298104fad"
   },
   "outputs": [],
   "source": [
    "def intro(**kwargs):\n",
    "    \"\"\"Prints out the value for given keywords\"\"\"\n",
    "    print(type(kwargs)) # printing out what data type kwargs is\n",
    "    for key, value in kwargs.items():\n",
    "        print(f\"{key} is {value}\")\n",
    "\n",
    "intro(Firstname=\"Katie\", Lastname=\"Dixon\", Age=27, Major = \"E&E\")"
   ]
  },
  {
   "cell_type": "code",
   "execution_count": null,
   "metadata": {
    "colab": {
     "base_uri": "https://localhost:8080/"
    },
    "executionInfo": {
     "elapsed": 382,
     "status": "ok",
     "timestamp": 1625082800887,
     "user": {
      "displayName": "Jess Senger",
      "photoUrl": "",
      "userId": "08376289370634799181"
     },
     "user_tz": 300
    },
    "id": "jA9Rhp1W0IoZ",
    "outputId": "675b3e54-3c06-480b-8288-780cf2d0fd6c"
   },
   "outputs": [],
   "source": [
    "intro(Name=\"Elle Woods\", Pet=\"Bruiser Woods\", School=\"Harvard\")"
   ]
  },
  {
   "cell_type": "markdown",
   "metadata": {
    "id": "oAQaE_5m0wMI"
   },
   "source": [
    "# 12.0 Check-in [4]\n",
    "\n",
    "Write a function that takes in however many arguments (`*args`) and returns a list of all the squared values. Remember, you have to first define an empty list outside of the for loop to start adding values to it"
   ]
  },
  {
   "cell_type": "code",
   "execution_count": null,
   "metadata": {
    "id": "27S5P8SL4fs9"
   },
   "outputs": [],
   "source": [
    "#### check in code here\n",
    "\n",
    "\n",
    "\n",
    "\n",
    "\n",
    "\n",
    "\n",
    "\n"
   ]
  },
  {
   "cell_type": "markdown",
   "metadata": {
    "id": "IFEQtPCO2gPL"
   },
   "source": [
    "# 13.0 The ordering of keyword arguments and `*args`\n",
    "\n",
    "You can also include required keyword arguments and positional arguments, `*args`, in the same function. As an example, we can write a function where we input the polynomial we want, and then we can input any number of arguments to this function and it will return a list of those values raised to that value:"
   ]
  },
  {
   "cell_type": "code",
   "execution_count": null,
   "metadata": {
    "colab": {
     "base_uri": "https://localhost:8080/"
    },
    "executionInfo": {
     "elapsed": 221,
     "status": "ok",
     "timestamp": 1625083008298,
     "user": {
      "displayName": "Jess Senger",
      "photoUrl": "",
      "userId": "08376289370634799181"
     },
     "user_tz": 300
    },
    "id": "TAoO_0s22kSV",
    "outputId": "d4f4ea9e-08c5-4a3c-9d3f-88eaca06c2ed"
   },
   "outputs": [],
   "source": [
    "def get_poly(polynomial,*args):\n",
    "    \"\"\"Takes in polynomial as first argument and returns a list of numbers raised to that polynomial\"\"\"\n",
    "    print(polynomial) # printing the value of the polynomial\n",
    "    poly_vals = [] # empty list\n",
    "\n",
    "    for val in args:\n",
    "        poly_vals.append(val**polynomial) # raising each value in args to that power\n",
    "\n",
    "    return(poly_vals) # returning the list\n",
    "\n",
    "\n",
    "get_poly(2,1,2,3,5,10) # the first position will be the polynomial"
   ]
  },
  {
   "cell_type": "code",
   "execution_count": null,
   "metadata": {
    "colab": {
     "base_uri": "https://localhost:8080/"
    },
    "executionInfo": {
     "elapsed": 214,
     "status": "ok",
     "timestamp": 1625083011024,
     "user": {
      "displayName": "Jess Senger",
      "photoUrl": "",
      "userId": "08376289370634799181"
     },
     "user_tz": 300
    },
    "id": "wXVug6zZ3-zL",
    "outputId": "e44f4518-e355-47b5-81b9-e857fadcf20b"
   },
   "outputs": [],
   "source": [
    "get_poly(3, 2, 5, 10)"
   ]
  },
  {
   "cell_type": "markdown",
   "metadata": {},
   "source": [
    "# Appendix: More complex functions"
   ]
  },
  {
   "cell_type": "markdown",
   "metadata": {
    "id": "tvuZeFUWxcwj"
   },
   "source": [
    "## 1.0: A function with no inputs, pulling it all together!\n",
    "\n",
    "We can use a dictionary, an `if` statement, and a `f string` to play a game where we guess a number and maybe get a lucky fruit. \n",
    "\n",
    "We define our function to take in no arguments, and then we use a dictionary to link random numbers to the fruits.  Then, we draw a random number from a uniform distribution of integers between 0 and 10. We then use an `if` statement to see if our `roll` is in the numbers we have in the dictionary. If it is, it will return a fruit using an `f string`. If it is not, it will print that you don't get a fruit."
   ]
  },
  {
   "cell_type": "code",
   "execution_count": null,
   "metadata": {},
   "outputs": [],
   "source": [
    "# defining our function\n",
    "def get_my_lucky_fruit():\n",
    "    \"\"\"Takes in no arguments, rolls the dice, and returns a fruit if you're lucky\"\"\"\n",
    "    \n",
    "    all_fruits=['apple','cherry','banana','strawberry','tomato'] # list of fruits\n",
    "    num_fruit = np.random.randint(low = 0, high = 10, size = 5) # random integer assignment to the fruits\n",
    "    \n",
    "    num_fruit_dict=dict(zip(num_fruit,all_fruits)) # create our dictionary\n",
    "    \n",
    "    roll = int(np.random.randint(low = 0, high = 10, size = 1)) # gotta turn it into an integer instead of an array\n",
    "    \n",
    "    if roll in num_fruit: # check to see if our roll is in our keys list\n",
    "        my_fruit = num_fruit_dict.get(roll)\n",
    "        print (f'You rolled a {roll}, your lucky fruit is {my_fruit}')\n",
    "    else:\n",
    "        print (f'You rolled a {roll}, there is no lucky fruit')\n",
    "\n",
    "# calling our function\n"
   ]
  },
  {
   "cell_type": "code",
   "execution_count": null,
   "metadata": {},
   "outputs": [],
   "source": [
    "get_my_lucky_fruit()"
   ]
  },
  {
   "cell_type": "markdown",
   "metadata": {},
   "source": [
    "Let's run the function 20 times to see how the output changes"
   ]
  },
  {
   "cell_type": "code",
   "execution_count": null,
   "metadata": {},
   "outputs": [],
   "source": [
    "for i in range(0,20,1):\n",
    "    get_my_lucky_fruit() # run the function with no inputs"
   ]
  },
  {
   "cell_type": "markdown",
   "metadata": {},
   "source": [
    "## 2.0: Magic 8 ball"
   ]
  },
  {
   "cell_type": "code",
   "execution_count": null,
   "metadata": {},
   "outputs": [],
   "source": [
    "def magic_8_ball(question):\n",
    "    \"\"\"Returns a mystic answer to your question by rolling a random number between 1 and 8\"\"\"\n",
    "    roll = np.random.randint(low = 1, high = 8, size = 1) # generate a random integer between 1 and 8\n",
    "\n",
    "    if (roll == 1):\n",
    "        answer = 'It is certain'\n",
    "    elif (roll == 2):\n",
    "        answer = 'Outlook good'\n",
    "        \n",
    "    elif (roll == 3):\n",
    "        answer = 'You may rely on it'\n",
    "        \n",
    "    elif (roll == 4):\n",
    "        answer = 'Ask again later'\n",
    "        \n",
    "    elif (roll == 5):\n",
    "        answer = 'Concentrate and ask again'\n",
    "        \n",
    "    elif (roll == 6):\n",
    "        answer = 'Reply hazy, try again'\n",
    "        \n",
    "    elif (roll == 7):\n",
    "        answer = 'My reply is no'\n",
    "    \n",
    "    elif (roll == 8):\n",
    "        answer = 'My sources say no'\n",
    "        \n",
    "    print(f'{question} \\nMagic 8 ball says \"{answer}\"') \n",
    "    # this \\n tells python to print a new line in the string\n",
    "\n",
    "        \n",
    "# calling our function"
   ]
  },
  {
   "cell_type": "code",
   "execution_count": null,
   "metadata": {},
   "outputs": [],
   "source": [
    "magic_8_ball(\"Will it rain tomorrow?\")"
   ]
  },
  {
   "cell_type": "code",
   "execution_count": null,
   "metadata": {},
   "outputs": [],
   "source": [
    "magic_8_ball(\"Will it snow in Chicago in October?\")"
   ]
  },
  {
   "cell_type": "markdown",
   "metadata": {},
   "source": [
    "## 3.0: Measurements with functions & nested if statements\n",
    "\n",
    "The goal is to recreate the google converter for measurements. We can use a function with nested if statements to take in three arguements for our function. The arguments are `value` which is the amount we want to convert, `from_unit` which is the unit we want to convert from, and `to_unit` which is the unit we want to convert to. Use an `f-string` to print out what the conversion is (ex. 8 gallons is 32 quarts). \n",
    "\n",
    "Your function should be able to take in either gallon, quart, pint, or cup and convert to either gallon, quart, pint or cup. Here are \n",
    "\n",
    "* 1 gallon is 4 quarts\n",
    "* 1 gallon is 8 pints\n",
    "* 1 gallon is 16 cups"
   ]
  },
  {
   "cell_type": "markdown",
   "metadata": {
    "jp-MarkdownHeadingCollapsed": true
   },
   "source": [
    "*Nested if statements*\n",
    "\n",
    "A nested if statement is an if-else statement with another if statement as the if body or the else body. \n",
    "\n",
    "In the next example, we will test whether a person in line for a roller coaster is the right height and age. The first thing to evaluate is if the height in inches is over 60 inches. If that is true, it moves on to the next if statement to check the age of the rider. If the first condition is false (if the rider is <60 inches), it will not check the age condition since the rider is too short."
   ]
  },
  {
   "cell_type": "code",
   "execution_count": null,
   "metadata": {},
   "outputs": [],
   "source": [
    "height_in = 59\n",
    "age = 28\n",
    "\n",
    "if (height_in >= 60):\n",
    "    if (age >= 16):\n",
    "        print(\"You can ride the roller coaster\")\n",
    "    else:\n",
    "        print(\"You are too young to ride this ride\")        \n",
    "else:\n",
    "    print('You are too short to ride this ride')"
   ]
  },
  {
   "cell_type": "markdown",
   "metadata": {},
   "source": [
    "Now that we're a little more familar with nested if statements, we can create our conversions function:"
   ]
  },
  {
   "cell_type": "code",
   "execution_count": null,
   "metadata": {},
   "outputs": [],
   "source": [
    "## answer the homework here\n",
    "\n",
    "def convert_measurements(value, from_unit, to_unit):\n",
    "    \n",
    "    if (from_unit == 'gallon'):\n",
    "        if (to_unit == 'quart'):\n",
    "            answer = value * 4\n",
    "        elif (to_unit == 'pint'):\n",
    "            answer = value * 8\n",
    "        elif (to_unit == 'cup'):\n",
    "            answer = value * 16\n",
    "\n",
    "    elif (from_unit == 'quart'):\n",
    "        if (to_unit == 'gallon'):\n",
    "            answer = value * (1/4)\n",
    "        elif (to_unit == 'pint'):\n",
    "            answer = value * 2\n",
    "        elif (to_unit == 'cup'):\n",
    "            answer = value * 4\n",
    "            \n",
    "    elif (from_unit == 'pint'):\n",
    "        if (to_unit == 'gallon'):\n",
    "            answer = value * (1/8)\n",
    "        elif (to_unit == 'quart'):\n",
    "            answer = value * (1/2)\n",
    "        elif (to_unit == 'cup'):\n",
    "            answer = value * 2\n",
    "            \n",
    "    elif (from_unit == 'cup'):\n",
    "        if (to_unit == 'gallon'):\n",
    "            answer = value * (1/16)\n",
    "        elif (to_unit == 'quart'):\n",
    "            answer = value * (1/4)\n",
    "        elif (to_unit == 'cup'):\n",
    "            answer = value * (1/2)\n",
    "            \n",
    "    print(f'{value} {from_unit}s = {answer} {to_unit}s')\n",
    "            \n"
   ]
  },
  {
   "cell_type": "code",
   "execution_count": null,
   "metadata": {},
   "outputs": [],
   "source": [
    "convert_measurements(value = 10, from_unit = 'cup', to_unit = 'gallon')"
   ]
  },
  {
   "cell_type": "markdown",
   "metadata": {},
   "source": [
    "We can also use a dictionary instead of writing our our arguments in the parentheses:"
   ]
  },
  {
   "cell_type": "code",
   "execution_count": null,
   "metadata": {},
   "outputs": [],
   "source": [
    "unit_dict = {'value' : 20, 'from_unit' : 'quart', 'to_unit' : 'cup'}\n",
    "convert_measurements(**unit_dict)"
   ]
  },
  {
   "cell_type": "markdown",
   "metadata": {},
   "source": [
    "## 4.0 Handling Errors in Functions"
   ]
  },
  {
   "cell_type": "markdown",
   "metadata": {},
   "source": [
    "Sometimes our functions crash if given bad input.  We can use **`try/except`** to handle errors gracefully.\n",
    "More information on <https://www.w3schools.com/python/python_try_except.asp>[try/except]"
   ]
  },
  {
   "cell_type": "code",
   "execution_count": null,
   "metadata": {},
   "outputs": [],
   "source": [
    "## this will give us an error we are expecting that \n",
    "def safe_divide(a, b):\n",
    "    \"\"\"Divide a by b, but handle division by zero.\"\"\"\n",
    "    return a / b\n",
    "\n",
    "safe_divide(1, 0)"
   ]
  },
  {
   "cell_type": "markdown",
   "metadata": {},
   "source": [
    "We can use try/except to try some comands and if this gives so known error we can pass that with except and continue the code "
   ]
  },
  {
   "cell_type": "code",
   "execution_count": null,
   "metadata": {},
   "outputs": [],
   "source": [
    "def safe_divide(a, b):\n",
    "    \"\"\"Divide a by b, but handle division by zero.\"\"\"\n",
    "    try:\n",
    "        return a / b\n",
    "    except ZeroDivisionError:\n",
    "        return \"division by zero\"\n",
    "\n",
    "safe_divide(1, 0)"
   ]
  },
  {
   "cell_type": "code",
   "execution_count": null,
   "metadata": {},
   "outputs": [],
   "source": [
    "print(safe_divide(10, 2))\n",
    "print(safe_divide(10, 0))   "
   ]
  },
  {
   "cell_type": "markdown",
   "metadata": {},
   "source": [
    "We can also raise errors:\n",
    "We can use this when writing complex code and helping us debus issues. "
   ]
  },
  {
   "cell_type": "code",
   "execution_count": null,
   "metadata": {},
   "outputs": [],
   "source": [
    "def sqrt(x):\n",
    "    \"\"\"Return the square root of x, but only if x is non-negative.\"\"\"\n",
    "    if x < 0:\n",
    "        raise ValueError(\"x must be non-negative\")\n",
    "    return x ** 0.5\n",
    "\n",
    "print(sqrt(9))    # 3.0\n",
    "print(sqrt(-4))   # raises ValueError: x must be non-negative"
   ]
  },
  {
   "cell_type": "markdown",
   "metadata": {},
   "source": [
    "## Check-in [5]"
   ]
  },
  {
   "cell_type": "markdown",
   "metadata": {},
   "source": [
    "Write a function called safe_subtract(a, b) that subtracts b from a, but with the following rules:\n",
    "\n",
    "If either input is not a number (like a string), your function should catch the error and return \"Inputs must be numbers\".\n",
    "\n",
    "If the result of the subtraction would be negative, your function should raise a ValueError with the message \"Result cannot be negative\".\n",
    "\n",
    "Otherwise, return the result of the subtraction.\n",
    "\n",
    "\n",
    "output expected:\n",
    "```python\n",
    "\n",
    "print(safe_subtract(10, 5))      # Expected: 5\n",
    "print(safe_subtract(\"10\", 5))    # Expected: \"Inputs must be numbers\"\n",
    "print(safe_subtract(5, 10))      # Expected: raises ValueError(\"Result cannot be negative\")\n",
    "\n",
    "```"
   ]
  },
  {
   "cell_type": "code",
   "execution_count": null,
   "metadata": {},
   "outputs": [],
   "source": [
    "def safe_subtract(a, b):\n",
    "    \"\"\"\n",
    "    Subtract b from a.\n",
    "    If inputs are not numbers, return 'Inputs must be numbers'.\n",
    "    If result is negative, raise ValueError.\n",
    "    \"\"\"\n",
    "   "
   ]
  },
  {
   "cell_type": "code",
   "execution_count": null,
   "metadata": {},
   "outputs": [],
   "source": [
    "# Test\n",
    "print(safe_subtract(10, 5))     # 5\n",
    "print(safe_subtract(\"10\", 5))   # \"Inputs must be numbers\"\n",
    "print(safe_subtract(5, 10))     # raises ValueError"
   ]
  },
  {
   "cell_type": "markdown",
   "metadata": {},
   "source": [
    "# 14. Self- eval\n",
    "Use this space to write future notes for your self. \n",
    "- What is something you found useful/cool? \n",
    "- What is somethingh you don't quite understand and need to follow up with TAs?"
   ]
  },
  {
   "cell_type": "markdown",
   "metadata": {},
   "source": [
    "# Answers to the coding check ins"
   ]
  },
  {
   "cell_type": "markdown",
   "metadata": {
    "jp-MarkdownHeadingCollapsed": true
   },
   "source": [
    "## Answer [1]"
   ]
  },
  {
   "cell_type": "code",
   "execution_count": null,
   "metadata": {},
   "outputs": [],
   "source": [
    "### space to put your code here\n",
    "\n",
    "def get_area(r):\n",
    "    area=np.pi * (r**2)\n",
    "    return(area)\n",
    "\n",
    "get_area(3)"
   ]
  },
  {
   "cell_type": "code",
   "execution_count": null,
   "metadata": {},
   "outputs": [],
   "source": [
    "def get_area(r,shape):\n",
    "\n",
    "    if shape == \"circle\":\n",
    "        area=np.pi * (r**2)\n",
    "    elif shape == \"square\":\n",
    "        area = r**2\n",
    "    else:\n",
    "        return(\"Error: shape is not circle or square\")\n",
    "    return(area)\n",
    "\n",
    "get_area(r=4,shape=\"square\")"
   ]
  },
  {
   "cell_type": "markdown",
   "metadata": {
    "jp-MarkdownHeadingCollapsed": true
   },
   "source": [
    "## Answer [2]"
   ]
  },
  {
   "cell_type": "code",
   "execution_count": null,
   "metadata": {},
   "outputs": [],
   "source": [
    "def get_hypotenuse (a,b):\n",
    "    \"\"\"Takes in the two sides of a right triangle and returns the hypotenuse\"\"\"\n",
    "    hypot = (a**2 + b**2)**(0.5)\n",
    "    return(hypot)\n",
    "    \n",
    "# define our dictionaries\n",
    "triangle_1 = {\"a\": 1, \"b\":2}\n",
    "triangle_2 = {\"a\": 15, \"b\":20}\n",
    "  \n",
    "# use function to get the hypotenuse\n",
    "print(get_hypotenuse(**triangle_1))\n",
    "print(get_hypotenuse(**triangle_2))"
   ]
  },
  {
   "cell_type": "markdown",
   "metadata": {
    "jp-MarkdownHeadingCollapsed": true
   },
   "source": [
    "## Answer [3]"
   ]
  },
  {
   "cell_type": "code",
   "execution_count": null,
   "metadata": {},
   "outputs": [],
   "source": [
    "# set your directory\n",
    "loaddir = '../data/' #Make sure the paths end in '/'\n",
    "# make a dictionary\n",
    "teams = ['Cleveland Cavaliers','Chicago Bulls','Los Angeles Lakers']\n",
    "filenames = ['Cavs.txt','Bulls.txt','Lakers.txt']\n",
    "\n",
    "#lets make sure it looks right\n",
    "bball_dict = dict(zip(teams,filenames))\n",
    "bball_dict"
   ]
  },
  {
   "cell_type": "code",
   "execution_count": null,
   "metadata": {},
   "outputs": [],
   "source": [
    "# define your basketball function\n",
    "def get_bball_stats(data, team_name):\n",
    "    \"\"\"Prints out the mean and max for each team \"\"\"\n",
    "    mean_val = round(np.mean(data),2)\n",
    "    max_val = round(np.max(data),2)\n",
    "    # make the variable name a thing\n",
    "    print(f'The mean for The {team_name} is {mean_val}m and the tallest playeris {max_val}m')\n",
    "\n"
   ]
  },
  {
   "cell_type": "code",
   "execution_count": null,
   "metadata": {},
   "outputs": [],
   "source": [
    "# loop through your data and use your function\n",
    "for team in teams:\n",
    "    # read in the data\n",
    "    #find file with dict\n",
    "    file = bball_dict.get(team)\n",
    "    #read data\n",
    "    data = np.loadtxt(loaddir+file, delimiter=',')\n",
    "    #pass to function\n",
    "    get_bball_stats(data, team_name = team)\n",
    "\n",
    "                  "
   ]
  },
  {
   "cell_type": "markdown",
   "metadata": {
    "jp-MarkdownHeadingCollapsed": true
   },
   "source": [
    "## Answer [4]"
   ]
  },
  {
   "cell_type": "code",
   "execution_count": null,
   "metadata": {},
   "outputs": [],
   "source": [
    "def get_square(*args):\n",
    "    \"\"\"Takes in any number of arguments and returns a list of the squares\"\"\"\n",
    "    square = [] # empty list\n",
    "    \n",
    "    for val in args:\n",
    "        square.append(val**2) # appending squared values for each value in args\n",
    "        \n",
    "    return(square) # return the list of squared values\n",
    "\n",
    "\n",
    "get_square(1,2,3,5,10)"
   ]
  },
  {
   "cell_type": "markdown",
   "metadata": {
    "jp-MarkdownHeadingCollapsed": true
   },
   "source": [
    "## Answer [5]"
   ]
  },
  {
   "cell_type": "code",
   "execution_count": null,
   "metadata": {},
   "outputs": [],
   "source": [
    "def safe_subtract(a, b):\n",
    "    \"\"\"\n",
    "    Subtract b from a.\n",
    "    If inputs are not numbers, return 'Inputs must be numbers'.\n",
    "    If result is negative, raise ValueError.\n",
    "    \"\"\"\n",
    "    try:\n",
    "        result = a - b\n",
    "        if result < 0:\n",
    "            raise ValueError(\"Result cannot be negative\")\n",
    "        return result\n",
    "    except TypeError:\n",
    "        return \"TypeError:Inputs must be numbers\"\n",
    "\n",
    "# Test\n",
    "print(safe_subtract(10, 5))     # 5\n",
    "print(safe_subtract(\"10\", 5))   # \"Inputs must be numbers\"\n",
    "print(safe_subtract(5, 10))     # raises ValueError"
   ]
  },
  {
   "cell_type": "markdown",
   "metadata": {},
   "source": [
    "# Homework"
   ]
  },
  {
   "cell_type": "markdown",
   "metadata": {},
   "source": [
    "## Problem 1  - Temperatures across cities\n",
    "\n",
    "I'm still thinking about moving! This time I've narrowed down my locations by city! Not only do I not like sharing my beaches, I don't like being too hot or too cold! I've collected some temperature data for you to help me analyze so I can look at where I want to move. I've given you two data files named `city_temps_january.csv` and `city_temps_july.csv`. The columns for each are ordered as `Anchorage, San Diego, Chicago, St. Louis, Cleveland, Seattle`.\n",
    "\n",
    "\n",
    "If you open up the `.csv` file on your computer, you'll see there are headers. Reading them in through `numpy` won't like the headers, so we can skip the first row to read in our array using the argument `skiprows = 1`. For more documentation on the loadtxt documentation, go [here](https://numpy.org/doc/stable/reference/generated/numpy.loadtxt.html)."
   ]
  },
  {
   "cell_type": "code",
   "execution_count": null,
   "metadata": {},
   "outputs": [],
   "source": [
    "loaddir = '../data/'\n",
    "\n",
    "jan_data = np.loadtxt(loaddir+'city_temps_january.csv', delimiter=',',skiprows = 1)"
   ]
  },
  {
   "cell_type": "markdown",
   "metadata": {},
   "source": [
    "First, look at the data and then figure out what type it is:"
   ]
  },
  {
   "cell_type": "code",
   "execution_count": null,
   "metadata": {},
   "outputs": [],
   "source": [
    "## part one answer\n",
    "\n",
    "\n"
   ]
  },
  {
   "cell_type": "markdown",
   "metadata": {},
   "source": [
    "Write a function that takes in the `city_name`, `index` `month` and `data_set` and outputs an `f string` with the mean, min and max for a city. Then loop through each of the cities/indexes and calculate the metrics. \n",
    "\n",
    "*Hints:*\n",
    "* You'll have to recall how to index 2d arrays in numpy\n",
    "* load in the july dataset just like we did january\n",
    "* You can pass a dataset to a function as an argument just like we did in sections 8 & 9\n",
    "* Make a list of the city names (in order!) and index them that way"
   ]
  },
  {
   "cell_type": "code",
   "execution_count": null,
   "metadata": {},
   "outputs": [],
   "source": [
    "# function\n",
    "\n",
    "\n",
    "\n",
    "\n",
    "\n"
   ]
  },
  {
   "cell_type": "code",
   "execution_count": null,
   "metadata": {},
   "outputs": [],
   "source": [
    "## for loop for january\n",
    "\n",
    "\n",
    "\n",
    "\n",
    "\n"
   ]
  },
  {
   "cell_type": "code",
   "execution_count": null,
   "metadata": {},
   "outputs": [],
   "source": [
    "## for loop for july\n",
    "\n",
    "\n"
   ]
  },
  {
   "cell_type": "markdown",
   "metadata": {},
   "source": [
    "These problems **combine topics from Day 01–03** (data & storage, loops/conditionals, NumPy) and emphasize **function design, vectorization, and debugging**. "
   ]
  },
  {
   "cell_type": "code",
   "execution_count": null,
   "metadata": {},
   "outputs": [],
   "source": [
    "import numpy as np"
   ]
  },
  {
   "cell_type": "markdown",
   "metadata": {},
   "source": [
    "## Problem 2 — Debugging vectorization (no loops)\n",
    "The function should convert Fahrenheit to Celsius for a **NumPy array input**, without any Python loops:\n",
    "\n",
    "**Fix only the lines** so that:\n",
    "- `f_to_c([32, 50, 212])` → `array([ 0., 10., 100.])`\n",
    "\n",
    "- 1. Make sure F is a numpy array of floats\n",
    "\n",
    "- 2. Apply the conversion formula to every element\n",
    "\n",
    "- 3. Return the new array\n",
    " \n",
    "- 4. Feel free to write your own function that does what we want"
   ]
  },
  {
   "cell_type": "code",
   "execution_count": null,
   "metadata": {},
   "outputs": [],
   "source": [
    "#modify this code\n",
    "def f_to_c(F):\n",
    "    # Convert Fahrenheit to Celsius\n",
    "    C = 9/5 * (F - 32)    \n",
    "    for i in range(len(F)):\n",
    "        C[i] = (F[i] - 32) / 1.8   \n",
    "    return F    \n",
    "\n",
    "f_to_c([32, 50, 212])"
   ]
  },
  {
   "cell_type": "markdown",
   "metadata": {},
   "source": [
    "## Problem 3 — NaN‑safe summary statistics\n",
    "Write `summary_stats(values)` that returns a dict with `'mean'`, `'median'`, `'std'`, computed with **NumPy**, ignoring `NaN` values.\n",
    "\n",
    "- If all values are `NaN` or the input is empty, return `{'mean': np.nan, 'median': np.nan, 'std':np.nan}`.\n",
    "\n",
    "**Test:** \n",
    "- summary_stats([1,2,np.nan,3])\n",
    "- output:\n",
    "{'mean': np.float64(2.0), 'median': np.float64(2.0), 'stdev': np.float64(0.816496580927726)}"
   ]
  },
  {
   "cell_type": "code",
   "execution_count": null,
   "metadata": {},
   "outputs": [],
   "source": [
    "# Your Answer\n",
    "import numpy as np\n",
    "\n",
    "def summary_stats(values):\n",
    "    #input your list as an array\n",
    "    arr=\n",
    "\n",
    "    # Handle empty input with if/else statement\n",
    "\n",
    "    # Keep only non-NaN entries\n",
    "\n",
    "    #calculate mean\n",
    "\n",
    "    # calculate Median\n",
    "\n",
    "    # calculate std\n",
    "\n",
    "    #return all values - make output pretty \n",
    "    \n",
    "\n",
    "print(summary_stats([1,2,np.nan,3]))"
   ]
  },
  {
   "cell_type": "markdown",
   "metadata": {},
   "source": [
    "## Problem 4 — Debugging boolean logic (loops ➜ vectorized)\n",
    "We have station IDs like `['ER15M', 'HU10S', 'ON41', 'MI02']` and depths in meters in a **NumPy array**.\n",
    "Fix the function to select stations whose IDs **start with 'ER' or 'ON'** and whose depths are between **20 and 100 m (inclusive)**, **without loops**.\n",
    "\n",
    "We want a function that:\n",
    "\n",
    "Takes a list of station IDs (ids) and a NumPy array of depths (depths).\n",
    "\n",
    "Selects only the stations that\n",
    "\n",
    "start with \"ER\" or \"ON\", and\n",
    "\n",
    "have depths between 20 and 100 m (inclusive).\n",
    "\n",
    "**Expected:**\n",
    "```python\n",
    "ids = ['ER15M','HU10S','ON41','MI02']\n",
    "depths = np.array([30, 5, 100, 60])\n",
    "# should keep ER15M and ON41\n",
    "```\n",
    "\n",
    "The buggy function below has three mistakes:\n",
    "\n",
    "hints:\n",
    "- make array first\n",
    "- Boolean mask: lake code check\n",
    "- Boolean mask: depth check (inclusive bounds)\n",
    "- Combine both masks\n",
    "- print output"
   ]
  },
  {
   "cell_type": "code",
   "execution_count": null,
   "metadata": {},
   "outputs": [],
   "source": [
    "# Your Answer\n",
    "\n",
    "def filter_stations(ids, depths):\n",
    "    # ids: list[str], depths: np.ndarray shape (N,)\n",
    "    mask = []\n",
    "    for i in range(len(ids)):\n",
    "        ok_lake = ids[i].startswith('MI')   # FIXME (wrong lake code)\n",
    "        ok_depth = (20 < depths[i] < 100)   # FIXME (not vectorized, wrong bounds)\n",
    "        mask.append(ok_lake and ok_depth)\n",
    "    return np.array(ids)[mask]  # FIXME (mask is a list, not a NumPy boolean mask)\n",
    "\n",
    "ids = ['ER15M','HU10S','ON41','MI02']\n",
    "depths = np.array([30, 5, 100, 60])\n",
    "print(filter_stations(ids, depths))"
   ]
  },
  {
   "cell_type": "markdown",
   "metadata": {},
   "source": [
    "## Problem 5 — Debugging with ChatGPT (be skeptical!)\n",
    "\n",
    "AI tools like ChatGPT can be helpful, but they are not always correct.\n",
    "You must always check the output yourself.\n",
    "\n",
    "The point isn’t to hide the “easy fix” — it’s to teach you that AI is just a tool, and you are responsible for:\n",
    "\n",
    "Verifying the output.\n",
    "\n",
    "Explaining the logic in your own words.\n",
    "\n",
    "Testing beyond the example input.\n",
    "\n",
    "\n",
    "This function is supposed to take a list of numbers and return only the even numbers greater than 10."
   ]
  },
  {
   "cell_type": "code",
   "execution_count": null,
   "metadata": {},
   "outputs": [],
   "source": [
    "def filter_evens(nums):\n",
    "    result = []\n",
    "    for n in nums:\n",
    "        if n % 2 == 0 or n > 10:   # BUG: wrong logical operator\n",
    "            result.append(n)\n",
    "    return result"
   ]
  },
  {
   "cell_type": "code",
   "execution_count": null,
   "metadata": {},
   "outputs": [],
   "source": [
    "# let's test it\n",
    "print(filter_evens([4, 11, 12, 7, 18, 3, 9]))\n",
    "# Expected: [12, 18]   (only even numbers AND > 10)"
   ]
  },
  {
   "cell_type": "markdown",
   "metadata": {},
   "source": [
    "We get the wrong output but why? Even if the answer is obvious please continue! I want you to work with chatgpt."
   ]
  },
  {
   "cell_type": "markdown",
   "metadata": {},
   "source": [
    "1. Ask ChatGPT: “Why is this function wrong?”\n",
    "\n",
    "Be precise in your question: describe the input, actual output, and expected output."
   ]
  },
  {
   "cell_type": "markdown",
   "metadata": {},
   "source": [
    "2. Read ChatGPT’s answer — but don’t trust it blindly.\n",
    "\n",
    "Does the explanation match the output you saw?\n",
    "\n",
    "If not, write down what you think the real bug is."
   ]
  },
  {
   "cell_type": "markdown",
   "metadata": {},
   "source": [
    "3. Fix the code yourself. \n",
    "\n",
    "Hint: the problem is with the logical operator (or vs and)."
   ]
  },
  {
   "cell_type": "markdown",
   "metadata": {},
   "source": [
    "4. Add two new test cases to prove your fix works. \n",
    "\n",
    "One where the list has no valid numbers.\n",
    "\n",
    "One where the list has several valid numbers.\n",
    "\n",
    "Ask chatgpt to do the same, how do your list compare."
   ]
  }
 ],
 "metadata": {
  "colab": {
   "collapsed_sections": [],
   "name": "Day4-Functions.ipynb",
   "provenance": [
    {
     "file_id": "1Q6baDtwD2Fcll__MY4m5gRRBenIFDUvx",
     "timestamp": 1618585961973
    }
   ]
  },
  "kernelspec": {
   "display_name": "Python 3 (ipykernel)",
   "language": "python",
   "name": "python3"
  },
  "language_info": {
   "codemirror_mode": {
    "name": "ipython",
    "version": 3
   },
   "file_extension": ".py",
   "mimetype": "text/x-python",
   "name": "python",
   "nbconvert_exporter": "python",
   "pygments_lexer": "ipython3",
   "version": "3.12.8"
  }
 },
 "nbformat": 4,
 "nbformat_minor": 4
}
