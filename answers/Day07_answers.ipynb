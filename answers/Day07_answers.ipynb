{
 "cells": [
  {
   "cell_type": "markdown",
   "id": "1f3e1653-b6c9-436b-bd2c-1576cf72f938",
   "metadata": {},
   "source": [
    "# Day 07 answers"
   ]
  },
  {
   "cell_type": "markdown",
   "id": "98e39b23-f9a6-404b-af9f-a9376467ee9c",
   "metadata": {},
   "source": [
    "# 1"
   ]
  },
  {
   "cell_type": "code",
   "execution_count": null,
   "id": "9bfbc6b7-ff04-4e07-9a8a-e748eb68170e",
   "metadata": {},
   "outputs": [],
   "source": [
    "# the cities Katie could move to\n",
    "cities = ['juno','austin','seattle','philadelphia']\n",
    "\n",
    "def open_june_average(city):\n",
    "    return pd.read_csv(\n",
    "        datadirectory / f\"{city}_june21.txt\",\n",
    "        sep=\"\\t\", header=None, usecols=[1], names=[f\"{city}_mean\"]\n",
    "    )\n",
    "\n",
    "city_info = []\n",
    "for c in ['juno','austin','seattle','philadelphia']:\n",
    "    one = open_june_average(c)\n",
    "    city_info.append(one)\n",
    "\n",
    "full_table = pd.concat(city_info, axis=1)\n",
    "full_table.index = np.arange(1, len(full_table)+1)\n",
    "full_table.index.name = \"Day\"\n",
    "\n",
    "full_table.plot(subplots=True, ylim=(50,90), xlabel='Day', ylabel='Temp')\n",
    "plt.tight_layout()\n",
    "plt.show() "
   ]
  },
  {
   "cell_type": "markdown",
   "id": "cfcfa993-116f-4101-ad9e-0851aee41d0c",
   "metadata": {},
   "source": [
    "# 2"
   ]
  },
  {
   "cell_type": "code",
   "execution_count": null,
   "id": "cd972da4-e742-426b-8cb0-a39c00258b28",
   "metadata": {},
   "outputs": [],
   "source": [
    "def get_lake_wanted(lake):\n",
    "    #read_data_in\n",
    "    temp_data_2010_2015=pd.read_csv(datadirectory+'gl_average_lake_temp_2010-2015.csv')\n",
    "    temp_data_2016_2020=pd.read_csv(datadirectory+'gl_average_lake_temp_2016-2020.csv')\n",
    "    \n",
    "    frames=[temp_data_2010_2015,temp_data_2016_2020]\n",
    "    full_temp=pd.concat(frames,axis=0)\n",
    "    lake_wanted=full_temp.loc[full_temp['lake']==lake,].copy()\n",
    "    lake_wanted.rename(columns={'day':'Day','year':'Year','temp':'Temp','lake':'Lake'},inplace=True)\n",
    "    \n",
    "    return lake_wanted\n",
    "\n",
    "get_lake_wanted('MI')"
   ]
  }
 ],
 "metadata": {
  "kernelspec": {
   "display_name": "Python (py101)",
   "language": "python",
   "name": "py101"
  },
  "language_info": {
   "codemirror_mode": {
    "name": "ipython",
    "version": 3
   },
   "file_extension": ".py",
   "mimetype": "text/x-python",
   "name": "python",
   "nbconvert_exporter": "python",
   "pygments_lexer": "ipython3",
   "version": "3.12.8"
  },
  "widgets": {
   "application/vnd.jupyter.widget-state+json": {
    "state": {},
    "version_major": 2,
    "version_minor": 0
   }
  }
 },
 "nbformat": 4,
 "nbformat_minor": 5
}
