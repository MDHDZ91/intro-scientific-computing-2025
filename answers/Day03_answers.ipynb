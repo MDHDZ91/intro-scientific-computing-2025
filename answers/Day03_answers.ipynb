{
 "cells": [
  {
   "cell_type": "markdown",
   "id": "9344963c-f3d9-4a56-beb0-3cd321fafeab",
   "metadata": {},
   "source": [
    "## Day 03 Answers "
   ]
  },
  {
   "cell_type": "markdown",
   "id": "132971b8-7a44-4db9-b960-47321200976f",
   "metadata": {},
   "source": [
    "# 1"
   ]
  },
  {
   "cell_type": "code",
   "execution_count": null,
   "id": "59f83a53-1c7b-4c59-9e44-024615128d61",
   "metadata": {},
   "outputs": [],
   "source": [
    "#1. load in data \n",
    "sensitivities=np.loadtxt('../data/GBM_sensitivity.csv', delimiter=',')\n",
    "\n",
    "#2. print last 10 items \n",
    "sensitivities[-10:]\n",
    "\n",
    "#3. make distance\n",
    "distances=np.linspace(50, 47800, sensitivities.size)\n",
    "distances"
   ]
  },
  {
   "cell_type": "code",
   "execution_count": null,
   "id": "a4d9475a-35f9-409c-ba04-b194aee19642",
   "metadata": {},
   "outputs": [],
   "source": [
    "#4. print number of elements\n",
    "mask = (distances >= 1e4) & (distances <= 1e5)  # inclusive range\n",
    "print(sensitivities[mask]) "
   ]
  },
  {
   "cell_type": "code",
   "execution_count": null,
   "id": "d354862b-447c-45f8-bc56-dadb491724f5",
   "metadata": {},
   "outputs": [],
   "source": [
    "#5. mean distance of points\n",
    "mask = sensitivities > 5e50\n",
    "mean_dist = np.mean(distances[mask])\n",
    "print(mean_dist)"
   ]
  },
  {
   "cell_type": "markdown",
   "id": "b8bfb183-f6e0-45b5-85ce-a142ce0ad414",
   "metadata": {},
   "source": [
    "# 2"
   ]
  },
  {
   "cell_type": "code",
   "execution_count": null,
   "id": "186b952c-27c6-4ea3-b948-ad584db7401e",
   "metadata": {},
   "outputs": [],
   "source": [
    "a = np.array([2, 4, 6, 8, 10])\n",
    "print(\"dtype:\", a.dtype, \"shape:\", a.shape, \"ndim:\", a.ndim, \"size:\", a.size)"
   ]
  },
  {
   "cell_type": "markdown",
   "id": "7fc18539-d930-4e00-944b-ddad6b796005",
   "metadata": {},
   "source": [
    "# 3"
   ]
  },
  {
   "cell_type": "code",
   "execution_count": null,
   "id": "197b7f51-0529-4c15-8d8b-c0899cef9efa",
   "metadata": {},
   "outputs": [],
   "source": [
    "b = np.arange(1, 13)\n",
    "B = b.reshape(3, 4)\n",
    "print(\"second row:\", B[1, :])\n",
    "print(\"last column:\", B[:, -1])\n",
    "print(\"submatrix rows 0–1, cols 1–3:\\n\", B[0:2, 1:4])"
   ]
  },
  {
   "cell_type": "markdown",
   "id": "3828f3e3-7b2a-4e32-8a48-b7ad2356b647",
   "metadata": {},
   "source": [
    "# 4"
   ]
  },
  {
   "cell_type": "code",
   "execution_count": null,
   "id": "65912992-48a6-4d7c-b122-7fb61420446e",
   "metadata": {},
   "outputs": [],
   "source": [
    "c = np.linspace(0, 1, 5)\n",
    "f = 9/5 * c + 32\n",
    "print(\"C:\", c)\n",
    "print(\"F:\", f)"
   ]
  },
  {
   "cell_type": "markdown",
   "id": "7662a7ec-ae92-4406-92a4-44d6ed52f385",
   "metadata": {},
   "source": [
    "# 5"
   ]
  },
  {
   "cell_type": "code",
   "execution_count": null,
   "id": "55e95053-ac64-4caa-ac44-830920dbdc65",
   "metadata": {},
   "outputs": [],
   "source": [
    "X = np.array([\n",
    "    [10, 12, 14],\n",
    "    [20, 22, 24],\n",
    "    [30, 32, 34]\n",
    "])\n",
    "X_cols = X[:, [0, 2]]\n",
    "print(X_cols)"
   ]
  },
  {
   "cell_type": "markdown",
   "id": "4a8371fe-8f1a-4f30-96eb-147a63a19bce",
   "metadata": {},
   "source": [
    "# 6"
   ]
  },
  {
   "cell_type": "code",
   "execution_count": null,
   "id": "02dcfbc6-3ae1-46f6-b936-b258935df7b2",
   "metadata": {},
   "outputs": [],
   "source": [
    "a = np.array([[1], [2], [3]])              # (3,1)\n",
    "b = np.array([[10], [20], [30], [40]])     # (4,1)\n",
    "\n",
    "# Make b a row (1,4) so (3,1) + (1,4) → (3,4)\n",
    "result = a + b.reshape(1, 4)\n",
    "# Alternative: result = a + b.T\n",
    "\n",
    "print(result.shape)\n",
    "print(result)"
   ]
  }
 ],
 "metadata": {
  "kernelspec": {
   "display_name": "Python 3 (ipykernel)",
   "language": "python",
   "name": "python3"
  },
  "language_info": {
   "codemirror_mode": {
    "name": "ipython",
    "version": 3
   },
   "file_extension": ".py",
   "mimetype": "text/x-python",
   "name": "python",
   "nbconvert_exporter": "python",
   "pygments_lexer": "ipython3",
   "version": "3.12.8"
  }
 },
 "nbformat": 4,
 "nbformat_minor": 5
}
