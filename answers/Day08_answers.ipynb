{
 "cells": [
  {
   "cell_type": "markdown",
   "id": "4cdc6ec0-4416-4661-a113-025492c318b3",
   "metadata": {},
   "source": [
    "# Day 08 answers"
   ]
  },
  {
   "cell_type": "markdown",
   "id": "691f81d3-f4d8-40a6-8dfd-32b6e3c61233",
   "metadata": {},
   "source": [
    "## 1"
   ]
  },
  {
   "cell_type": "code",
   "execution_count": null,
   "id": "eac9299e-78c4-4244-ad67-4e55dc5223b4",
   "metadata": {},
   "outputs": [],
   "source": [
    "def get_ice_data(year):\n",
    "    #read in data but only first 5 rows since we know we need to chage the reading parameters\n",
    "    #use f_format to change the values in the string \n",
    "    read_in_data=pd.read_table(datadirectory+f'gl_{year}_{year+1}_ice.csv',nrows=5)\n",
    "    \n",
    "    #get column names\n",
    "    ice_names=read_in_data.iloc[2].str.split(\" +\", n = 8, expand = True)\n",
    "    ice_names_dict=dict(zip(ice_names.keys(),ice_names.iloc[0,]))\n",
    "    \n",
    "    #make a clean table\n",
    "    ice_clean=pd.read_csv(datadirectory+f'gl_{year}_{year+1}_ice.csv',skiprows=5,header=None,delim_whitespace=True)\n",
    "    ice_clean.rename(columns=ice_names_dict,inplace=True)\n",
    "    lake_initials={'Sup.':'SU','Mich.':'MI','Huron':'HU','Erie':'ER','Ont.':'ON'}\n",
    "    ice_clean.rename(columns=lake_initials,inplace=True)\n",
    "    ice_clean.drop(['St.Clr','GL Total'],axis=1,inplace=True)\n",
    "    \n",
    "    #add date column\n",
    "    ice_clean['date']=pd.to_datetime(ice_clean['Year'].astype(str)+' '+ice_clean['Day'].astype(str), format='%Y %j')\n",
    "    #add month column\n",
    "    ice_clean['Month']=pd.DatetimeIndex(ice_clean['date']).month.astype(int)\n",
    "    #drop date column\n",
    "    ice_clean.drop(['date'],axis=1,inplace=True)\n",
    "\n",
    "    #return the clean table\n",
    "    return ice_clean\n",
    "\n",
    "get_ice_data(2016)"
   ]
  },
  {
   "cell_type": "markdown",
   "id": "ac1fdbf1-d440-4446-9d58-8698c61446e7",
   "metadata": {},
   "source": [
    "## 2"
   ]
  },
  {
   "cell_type": "code",
   "execution_count": null,
   "id": "fc425c99-c7aa-4c51-abbf-d61e9faaef68",
   "metadata": {},
   "outputs": [],
   "source": [
    "#1 Lake yearly ice_concentration% average and max\n",
    "melt_ice.groupby(['Lake','Year'])['ice_concentration%'].agg(('mean', 'max')).reset_index()\n",
    "\n",
    "#2. Lake monthly count and min per year\n",
    "melt_ice.groupby(['Lake','Month'])['ice_concentration%'].agg(('count', 'min')).reset_index()\n",
    "\n",
    "#3. Yearly standard_deviation for the entire region \n",
    "table1=pd.pivot_table(melt_ice, values=['ice_concentration%'], \n",
    "                      index=['Year'],aggfunc={'ice_concentration%': [np.std]})\n",
    "table1.columns=table1.columns.droplevel(0)\n",
    "table1=table1.reset_index()\n",
    "table1\n",
    "\n",
    "#4. Monthly ptp for the entire region in the past 10 years \n",
    "table2=pd.pivot_table(melt_ice, values=['ice_concentration%'], \n",
    "                      index=['Month'],aggfunc={'ice_concentration%': [np.ptp]})\n",
    "table2.columns=table2.columns.droplevel(0)\n",
    "table2=table2.reset_index()\n",
    "table2"
   ]
  },
  {
   "cell_type": "markdown",
   "id": "73a20c91-ada3-4016-8921-232f90931be1",
   "metadata": {},
   "source": [
    "# 3"
   ]
  },
  {
   "cell_type": "markdown",
   "id": "96fd2400-116f-46ce-9151-a40126f8a04d",
   "metadata": {},
   "source": [
    "## part1"
   ]
  },
  {
   "cell_type": "code",
   "execution_count": null,
   "id": "f682bc66-02d1-4189-bd76-fe7eb9f91ca8",
   "metadata": {},
   "outputs": [],
   "source": [
    "import pandas as pd\n",
    "import matplotlib.pyplot as plt\n",
    "\n",
    "# 1) Read from URL\n",
    "url = \"https://raw.githubusercontent.com/allisonhorst/palmerpenguins/master/inst/extdata/penguins.csv\"\n",
    "penguins = pd.read_csv(url)\n",
    "\n",
    "\n",
    "# 2) quick look\n",
    "display(penguins.head())\n",
    "print(\"Shape:\", penguins.shape)\n",
    "\n",
    "# 3) Drop missing in key columns\n",
    "needed = ['species','sex','body_mass_g','bill_length_mm','bill_depth_mm']\n",
    "penguins_clean = penguins.dropna(subset=needed)"
   ]
  },
  {
   "cell_type": "markdown",
   "id": "6fab6ff6-583f-40d1-8285-1a399443f4c4",
   "metadata": {},
   "source": [
    "## part2"
   ]
  },
  {
   "cell_type": "code",
   "execution_count": null,
   "id": "253bfe03-a452-42ed-ac10-69d18792cf4b",
   "metadata": {},
   "outputs": [],
   "source": [
    "# 4) Feature engineering with assign\n",
    "penguins_clean = penguins_clean.assign(\n",
    "    mass_kg = penguins_clean['body_mass_g'] / 1000,\n",
    "    bill_ratio = penguins_clean['bill_length_mm'] / penguins_clean['bill_depth_mm']\n",
    ")\n",
    "\n",
    "# 5) Groupby summary\n",
    "summary = (\n",
    "    penguins_clean\n",
    "    .groupby(['species','sex'], as_index=False)\n",
    "    .agg(mean_mass_kg=('mass_kg','mean'),\n",
    "         mean_bill_ratio=('bill_ratio','mean'))\n",
    "    .sort_values('mean_mass_kg', ascending=False)\n",
    ")\n",
    "display(summary.head())\n",
    "\n",
    "# 6) Pivot table: species x sex → mass_kg mean\n",
    "pivot = penguins_clean.pivot_table(index='species', columns='sex', values='mass_kg', aggfunc='mean')\n",
    "pivot"
   ]
  },
  {
   "cell_type": "markdown",
   "id": "19be5078-3d0b-4b1d-9623-19fc41f25c65",
   "metadata": {},
   "source": [
    "## part3"
   ]
  },
  {
   "cell_type": "code",
   "execution_count": null,
   "id": "120b06fa-53be-4890-b250-9307d429e64a",
   "metadata": {},
   "outputs": [],
   "source": [
    "# 7) Plot\n",
    "ax = pivot.plot(kind='bar', figsize=(7,4))\n",
    "ax.set_xlabel('Species'); ax.set_ylabel('Mean mass (kg)')\n",
    "ax.set_title('Penguin mass by species and sex (mean)')\n",
    "plt.tight_layout(); plt.show()\n",
    "\n",
    "# 8) Save cleaned data\n",
    "penguins_clean.to_csv('../output/penguins_clean.csv', index=False)\n",
    "print(\"Saved penguins_clean.csv\")"
   ]
  }
 ],
 "metadata": {
  "kernelspec": {
   "display_name": "Python (py101)",
   "language": "python",
   "name": "py101"
  },
  "language_info": {
   "codemirror_mode": {
    "name": "ipython",
    "version": 3
   },
   "file_extension": ".py",
   "mimetype": "text/x-python",
   "name": "python",
   "nbconvert_exporter": "python",
   "pygments_lexer": "ipython3",
   "version": "3.12.8"
  }
 },
 "nbformat": 4,
 "nbformat_minor": 5
}
