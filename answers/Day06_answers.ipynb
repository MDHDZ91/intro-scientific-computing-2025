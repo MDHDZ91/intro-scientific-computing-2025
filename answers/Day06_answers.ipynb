{
 "cells": [
  {
   "cell_type": "markdown",
   "id": "77ae45d7-9566-48ea-bf4c-eb8f9125db63",
   "metadata": {},
   "source": [
    "# Day 6 Answers"
   ]
  },
  {
   "cell_type": "markdown",
   "id": "569fd323-7fc8-4da4-893d-b3758fed7cdf",
   "metadata": {},
   "source": [
    "# 1"
   ]
  },
  {
   "cell_type": "code",
   "execution_count": 1,
   "id": "d5e16bf1-ca62-4a26-a972-bea4b4b185f2",
   "metadata": {},
   "outputs": [
    {
     "ename": "NameError",
     "evalue": "name 'pd' is not defined",
     "output_type": "error",
     "traceback": [
      "\u001b[31m---------------------------------------------------------------------------\u001b[39m",
      "\u001b[31mNameError\u001b[39m                                 Traceback (most recent call last)",
      "\u001b[36mCell\u001b[39m\u001b[36m \u001b[39m\u001b[32mIn[1]\u001b[39m\u001b[32m, line 2\u001b[39m\n\u001b[32m      1\u001b[39m \u001b[38;5;66;03m## call in my data\u001b[39;00m\n\u001b[32m----> \u001b[39m\u001b[32m2\u001b[39m pokemon_df=\u001b[43mpd\u001b[49m.read_csv(datadirectory+\u001b[33m'\u001b[39m\u001b[33mPokemon.csv\u001b[39m\u001b[33m'\u001b[39m)\n\u001b[32m      5\u001b[39m \u001b[38;5;66;03m##STEP 1: get the generations you want first (1)\u001b[39;00m\n\u001b[32m      6\u001b[39m pokemon_df_selected_1=pokemon_df.loc[((pokemon_df[\u001b[33m'\u001b[39m\u001b[33mGeneration\u001b[39m\u001b[33m'\u001b[39m]==\u001b[32m1\u001b[39m) |(pokemon_df[\u001b[33m'\u001b[39m\u001b[33mGeneration\u001b[39m\u001b[33m'\u001b[39m]==\u001b[32m3\u001b[39m)),:].copy()\n",
      "\u001b[31mNameError\u001b[39m: name 'pd' is not defined"
     ]
    }
   ],
   "source": [
    "## call in my data\n",
    "pokemon_df=pd.read_csv(datadirectory+'Pokemon.csv')\n",
    "\n",
    "\n",
    "##STEP 1: get the generations you want first (1)\n",
    "pokemon_df_selected_1=pokemon_df.loc[((pokemon_df['Generation']==1) |(pokemon_df['Generation']==3)),:].copy()\n",
    "##STEP 2: get the Legendary pokemon next, from the previous df (1)\n",
    "pokemon_df_selected_2=pokemon_df_selected_1.loc[pokemon_df_selected_1['Legendary']==True,:].copy()\n",
    "## STEP 3: the the Psychic next, from the previous def (2)\n",
    "pokemon_df_selected=pokemon_df_selected_2.loc[pokemon_df_selected_2['Type 1']=='Psychic',:].copy()\n",
    "\n",
    "#Yes we could do all of this in one line, but keeping track of parenthesis would not be fun\n",
    "\n",
    "###export the table, note I wrote all my answers the same so this line will work regardless of the method you use\n",
    "pokemon_df_selected.to_csv(data_out_directory+'pokemon_hw.csv')\n",
    "\n",
    "#let's see the data\n",
    "pokemon_df_selected"
   ]
  },
  {
   "cell_type": "markdown",
   "id": "7a57ce28-6ee6-4db8-a53c-b03a4ca70f0d",
   "metadata": {},
   "source": [
    "# 2"
   ]
  },
  {
   "cell_type": "code",
   "execution_count": null,
   "id": "d99f0d41-983a-434c-9640-4e08bbdc8e51",
   "metadata": {},
   "outputs": [],
   "source": [
    "def get_strong_defense(pokemon_type, generation,save):\n",
    "    #select based on type and generation\n",
    "    data=pokemon_df.loc[((pokemon_df['Type 1']== pokemon_type) | (pokemon_df['Type 2']== pokemon_type))& (pokemon_df['Generation']== generation)].copy()\n",
    "    #sort based on defense\n",
    "    data_sorted=data.sort_values(by='Defense',ascending=True)\n",
    "    #select the top and bottom 3\n",
    "    data_out=data_sorted.iloc[[0,1,2,-1,-2,-3],]\n",
    "    \n",
    "    if save=='Yes':\n",
    "        data_out.to_csv(data_out_directory+f'strong_def_{pokemon_type}_{generation}.csv',index=0)\n",
    "    else:\n",
    "        pass\n",
    "    \n",
    "    return data_out\n",
    "\n",
    "get_strong_defense('Grass',2,False)"
   ]
  }
 ],
 "metadata": {
  "kernelspec": {
   "display_name": "Python (py101)",
   "language": "python",
   "name": "py101"
  },
  "language_info": {
   "codemirror_mode": {
    "name": "ipython",
    "version": 3
   },
   "file_extension": ".py",
   "mimetype": "text/x-python",
   "name": "python",
   "nbconvert_exporter": "python",
   "pygments_lexer": "ipython3",
   "version": "3.12.8"
  },
  "widgets": {
   "application/vnd.jupyter.widget-state+json": {
    "state": {},
    "version_major": 2,
    "version_minor": 0
   }
  }
 },
 "nbformat": 4,
 "nbformat_minor": 5
}
