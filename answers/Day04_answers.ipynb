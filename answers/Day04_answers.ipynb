{
 "cells": [
  {
   "cell_type": "markdown",
   "id": "6cb2c768-9a34-46e2-88b4-d903f30be5c9",
   "metadata": {},
   "source": [
    "# Day 04 Answers"
   ]
  },
  {
   "cell_type": "markdown",
   "id": "bad02ae5-3278-452a-8564-23bd6982a33a",
   "metadata": {},
   "source": [
    "1"
   ]
  },
  {
   "cell_type": "code",
   "execution_count": null,
   "id": "d1ad14a8-1497-445f-af06-bf05a00bc9fa",
   "metadata": {},
   "outputs": [],
   "source": [
    "loaddir = '../data/'\n",
    "jan_data = np.loadtxt(loaddir+'city_temps_january.csv', delimiter=',',skiprows= 1)\n",
    "\n",
    "\n",
    "## part one answer\n",
    "print(jan_data)\n",
    "print(type(jan_data))"
   ]
  },
  {
   "cell_type": "code",
   "execution_count": null,
   "id": "dc5ac3ee-c22a-4580-bf34-77f64bcfa96c",
   "metadata": {},
   "outputs": [],
   "source": [
    "## function\n",
    "def get_city_info(city_name, index, month, data_set):\n",
    "    city_mean = np.mean(data_set[:,index]) # takes the mean\n",
    "    city_max = np.max(data_set[:,index]) # the max\n",
    "    city_min = np.min(data_set[:,index]) # the min\n",
    "    \n",
    "    print(f\"{month} in {city_name}: \\nmean is {round(city_mean)}, max is {round(city_max)}, min is {round(city_min)}\")"
   ]
  },
  {
   "cell_type": "code",
   "execution_count": null,
   "id": "be3e6755-8857-42c1-b6e2-ebb1c05926df",
   "metadata": {},
   "outputs": [],
   "source": [
    "## for loop for january\n",
    "cities = ['Anchorage','Seattle','San Diego','Chicago','St. Louis','Cleveland']\n",
    "for i in range(0,len(cities)):\n",
    "    get_city_info(cities[i],i, \"January\", jan_data)"
   ]
  },
  {
   "cell_type": "code",
   "execution_count": null,
   "id": "d706c0a5-6905-4e2a-83f0-667873c155be",
   "metadata": {},
   "outputs": [],
   "source": [
    "## for loop for july\n",
    "july_data = np.loadtxt(loaddir+'city_temps_july.csv', delimiter=',',skiprows =1)\n",
    "for i in range(0,len(cities)):\n",
    "    get_city_info(cities[i],i, \"July\", july_data)"
   ]
  },
  {
   "cell_type": "markdown",
   "id": "7ec4852e-75d8-4868-9ba7-650e03c9325e",
   "metadata": {},
   "source": [
    "# 2"
   ]
  },
  {
   "cell_type": "code",
   "execution_count": null,
   "id": "914ebfbb-7f63-42ab-a91d-f1e46da6056d",
   "metadata": {},
   "outputs": [],
   "source": [
    "def f_to_c(F):\n",
    "    \"\"\"\n",
    "    Convert Fahrenheit values to Celsius.\n",
    "    \"\"\"\n",
    "    # 1. Make sure F is a numpy array of floats\n",
    "    F = np.asarray(F, dtype=float)\n",
    "    \n",
    "    # 2. Apply the conversion formula to every element\n",
    "    C = (F - 32) * (5.0 / 9.0)\n",
    "    \n",
    "    # 3. Return the new array\n",
    "    return C\n",
    "\n",
    "f_to_c([32, 50, 212])"
   ]
  },
  {
   "cell_type": "markdown",
   "id": "23262235-dece-4080-b918-e788f5c6c7de",
   "metadata": {},
   "source": [
    "# 3"
   ]
  },
  {
   "cell_type": "code",
   "execution_count": null,
   "id": "3d69690a-0b60-42a6-ac12-3ebf279e4736",
   "metadata": {},
   "outputs": [],
   "source": [
    "def summary_stats(values):\n",
    "    \"\"\"\n",
    "    Return statistics values while ignoring NaN values.\n",
    "    If input is empty or all-NaN, returns NaN for all fields.\n",
    "    \"\"\"\n",
    "    # Coerce to 1D float array\n",
    "    arr = np.asarray(values, dtype=float).ravel()\n",
    "\n",
    "    # Handle empty input\n",
    "    if arr.size == 0:\n",
    "        return {'mean': np.nan, 'median': np.nan, 'stdev': np.nan}\n",
    "\n",
    "    # Keep only non-NaN entries\n",
    "    mask = ~np.isnan(arr)\n",
    "    if not mask.any():\n",
    "        return {'mean': np.nan, 'median': np.nan, 'stdev': np.nan}\n",
    "\n",
    "    x = arr[mask]\n",
    "\n",
    "    # Mean\n",
    "    mean = np.mean(x)\n",
    "\n",
    "    # Median\n",
    "    median = np.median(x)\n",
    "\n",
    "    # std\n",
    "    stdev = np.std(x)\n",
    "\n",
    "    return {'mean': mean, 'median': median, 'stdev': stdev}\n",
    "\n",
    "print(summary_stats([1,2,np.nan,3]))"
   ]
  },
  {
   "cell_type": "markdown",
   "id": "99428387-811e-4b14-a7ea-37598125873c",
   "metadata": {},
   "source": [
    "# 4"
   ]
  },
  {
   "cell_type": "code",
   "execution_count": null,
   "id": "386202f9-2e46-4ad9-a910-8faf3c5a3ae1",
   "metadata": {},
   "outputs": [],
   "source": [
    "def filter_stations(ids, depths):\n",
    "    \"\"\"\n",
    "    Select station IDs that start with 'ER' or 'ON' and\n",
    "    have depths between 20 and 100 m inclusive.\n",
    "    \"\"\"\n",
    "    #make array first\n",
    "    ids = np.array(ids)\n",
    "    depths=np.array(depths)\n",
    "\n",
    "    # Boolean mask: lake code check\n",
    "    ok_lake = np.char.startswith(ids, 'ER') | np.char.startswith(ids, 'ON')\n",
    "\n",
    "    # Boolean mask: depth check (inclusive bounds)\n",
    "    ok_depth = (depths >= 20) & (depths <= 100)\n",
    "\n",
    "    # Combine both masks\n",
    "    mask = ok_lake & ok_depth\n",
    "\n",
    "    return ids[mask]\n",
    "\n",
    "# Test\n",
    "ids = ['ER15M','HU10S','ON41','MI02']\n",
    "depths = [30, 5, 100, 60]\n",
    "print(filter_stations(ids, depths))"
   ]
  },
  {
   "cell_type": "markdown",
   "id": "c97d93f7-c76c-45cb-86ec-dc5b3b3a2c62",
   "metadata": {},
   "source": [
    "# 5"
   ]
  },
  {
   "cell_type": "code",
   "execution_count": null,
   "id": "57d95b1c-d3d7-4825-bc13-52ad1bddf4e1",
   "metadata": {},
   "outputs": [],
   "source": [
    "def filter_evens(nums):\n",
    "    result = []\n",
    "    for n in nums:\n",
    "        if n % 2 == 0 and n > 10:   \n",
    "            result.append(n)\n",
    "    return result\n",
    "\n",
    "# let's test it\n",
    "print(filter_evens([4, 11, 12, 7, 18, 3, 9]))\n",
    "# Expected: [12, 18]   (only even numbers AND > 10)"
   ]
  },
  {
   "cell_type": "code",
   "execution_count": null,
   "id": "d9f89f96-efaa-4ebe-bd93-233dc78b465d",
   "metadata": {},
   "outputs": [],
   "source": [
    "#no evens greater than 10- should be empty \n",
    "print(filter_evens([1, 7, 9, 6]))\n",
    "\n",
    "#Input list has multiple even numbers > 10, so all of them should appear.\n",
    "print(filter_evens([2, 4, 12, 18, 25, 30]))"
   ]
  }
 ],
 "metadata": {
  "kernelspec": {
   "display_name": "Python (py101)",
   "language": "python",
   "name": "py101"
  },
  "language_info": {
   "codemirror_mode": {
    "name": "ipython",
    "version": 3
   },
   "file_extension": ".py",
   "mimetype": "text/x-python",
   "name": "python",
   "nbconvert_exporter": "python",
   "pygments_lexer": "ipython3",
   "version": "3.12.8"
  }
 },
 "nbformat": 4,
 "nbformat_minor": 5
}
