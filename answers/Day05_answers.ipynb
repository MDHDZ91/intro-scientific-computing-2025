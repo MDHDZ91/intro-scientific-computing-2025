{
 "cells": [
  {
   "cell_type": "markdown",
   "id": "9ceaf8a3-645c-48e2-a470-3129d2745522",
   "metadata": {},
   "source": [
    "# Day 05 Answers"
   ]
  },
  {
   "cell_type": "markdown",
   "id": "99caa84e-cfe3-4c83-bc07-acd910a4111e",
   "metadata": {},
   "source": [
    "# 1"
   ]
  },
  {
   "cell_type": "code",
   "execution_count": null,
   "id": "4a11cffb-bccb-41fe-b7a3-1861783975e6",
   "metadata": {},
   "outputs": [],
   "source": [
    "def plot_SIR(Init_S, Init_I, Init_R, beta, gamma, MaxTime):\n",
    "    S = [0]*MaxTime # initialize a vector that is 200 elements long of zeros\n",
    "    I = [0]*MaxTime\n",
    "    R = [0]*MaxTime\n",
    "    \n",
    "    S[0] = Init_S # setting the first value to the initial conditions\n",
    "    I[0] = Init_I\n",
    "    R[0] = Init_R\n",
    "    for i in range(1,MaxTime,1):\n",
    "        S[i] = S[i-1] - beta*S[i-1]*I[i-1] # susceptible equation\n",
    "        I[i] = I[i-1] + beta*S[i-1]*I[i-1] - gamma*I[i-1] # infected equation\n",
    "        R[i] = R[i-1] + gamma*I[i-1]\n",
    "    \n",
    "    fig, ax = plt.subplots()\n",
    "\n",
    "    ax.plot(S, label = \"Susceptible\")\n",
    "    ax.plot(I, label = \"Infected\")\n",
    "    ax.plot(R, label = \"Recovered\")\n",
    "    \n",
    "    ax.set_xlabel(\"Time\", fontsize = 15)\n",
    "    ax.set_ylabel(\"Proportion of population\", fontsize = 15)\n",
    "    ax.legend()\n",
    "    plt.show()\n",
    "\n",
    "params_set1 = {\"Init_S\": 0.99, \"Init_I\": 0.01, \"Init_R\":0, \"beta\":0.8, \"gamma\":0.1, \"MaxTime\":100}\n",
    "plot_SIR(**params_set1)"
   ]
  },
  {
   "cell_type": "markdown",
   "id": "f995f789-7c8b-412d-b088-10212030ba28",
   "metadata": {},
   "source": [
    "# 2"
   ]
  },
  {
   "cell_type": "code",
   "execution_count": null,
   "id": "7f747f12-63c9-4181-8ef8-5ceae20e9a76",
   "metadata": {},
   "outputs": [],
   "source": [
    "np.random.seed(2)\n",
    "N = 1000\n",
    "\n",
    "\n",
    "x = np.random.lognormal(mean = 1, sigma = 0.5, size = N)\n",
    "y = np.random.normal(loc = 1, scale = 5, size = N)\n",
    "colors = np.random.rand(N)\n",
    "\n",
    "\n",
    "fig, ax = plt.subplots(nrows=2,ncols=2)\n",
    "ax[0,0].scatter(x,y, c = colors, alpha = 0.8)\n",
    "ax[0,1].scatter(y,x, c = colors, alpha = 0.8)\n",
    "\n",
    "ax[1,0].hist(x, 30, color = \"blue\", density=True)\n",
    "ax[1,1].hist(y, 30, color = \"pink\", density=True)\n",
    "\n",
    "ax[0,0].set_xlabel('Lognormal')\n",
    "ax[0,0].set_ylabel('Normal')\n",
    "\n",
    "ax[0,1].set_xlabel('Normal')\n",
    "ax[0,1].set_ylabel('Lognormal')\n",
    "\n",
    "ax[1,0].set_xlabel('Lognormal')\n",
    "ax[1,1].set_xlabel('Normal')\n",
    "\n",
    "plt.tight_layout()"
   ]
  },
  {
   "cell_type": "markdown",
   "id": "305863e9-1d8e-4aa3-a971-ab037f0ae2e0",
   "metadata": {},
   "source": [
    "# 3 "
   ]
  },
  {
   "cell_type": "code",
   "execution_count": null,
   "id": "548e201c-dace-4955-bcff-90037c636d68",
   "metadata": {},
   "outputs": [],
   "source": [
    "all_cities = weather_dat[:, :, 1]\n",
    "mean_daily = all_cities.mean(axis=0)\n",
    "std_daily  = all_cities.std(axis=0)\n",
    "\n",
    "days = np.arange(1, mean_daily.size + 1)\n",
    "\n",
    "plt.figure(figsize=(7,4))\n",
    "plt.plot(days, mean_daily, marker='o', label='Daily mean (avg temp)')\n",
    "\n",
    "plt.fill_between(days, mean_daily-std_daily, mean_daily+std_daily, alpha=0.25, label='±1 SD')\n",
    "plt.xlabel('Day of June')\n",
    "plt.ylabel('Temperature (°F)')\n",
    "\n",
    "plt.title('Across-city daily mean of average temperature (±1 SD)')\n",
    "#plt.grid(True, alpha=0.3) #fancy grid!\n",
    "plt.legend()\n",
    "plt.tight_layout()"
   ]
  },
  {
   "cell_type": "markdown",
   "id": "fb25d530-3394-4aed-82f6-1f43926cf172",
   "metadata": {},
   "source": [
    "# 4 "
   ]
  },
  {
   "cell_type": "code",
   "execution_count": null,
   "id": "4277b6e8-e368-48e1-b9ef-904fbe7510ea",
   "metadata": {},
   "outputs": [],
   "source": [
    "max_all = weather_dat[:, :, 0]   # shape: (n_cities, n_days)\n",
    "n_cities, n_days = max_all.shape\n",
    "\n",
    "city_names = [\"Juno\", \"Seattle\", \"Philadelphia\", \"Austin\"]\n",
    "\n",
    "ymin = max_all.min() - 2\n",
    "ymax = max_all.max() + 2\n",
    "days = np.arange(1, n_days + 1)\n",
    "\n",
    "fig, axs = plt.subplots(2, 2, figsize=(9,6), sharex=True, sharey=True)\n",
    "axs = axs.ravel()\n",
    "\n",
    "for i in range(n_cities):\n",
    "    ax = axs[i]\n",
    "    ax.plot(days, max_all[i], marker='o')\n",
    "    ax.set_title(city_names[i])\n",
    "    ax.set_ylim(ymin, ymax)\n",
    "    ax.grid(True, alpha=0.3)\n",
    "\n",
    "# Label all axes\n",
    "for ax in axs:\n",
    "    ax.set_xlabel('Day')\n",
    "    ax.set_ylabel('Max Temp (°F)')\n",
    "\n",
    "fig.suptitle('Daily maximum temperatures by city', y=1.02)\n",
    "plt.tight_layout()\n",
    "plt.show()"
   ]
  },
  {
   "cell_type": "markdown",
   "id": "5e526bb4-c285-4d2a-89e8-bb2408aa49ed",
   "metadata": {},
   "source": [
    "# 5"
   ]
  },
  {
   "cell_type": "code",
   "execution_count": null,
   "id": "da360c1d-e00d-42b8-8ebe-5d262c591680",
   "metadata": {},
   "outputs": [],
   "source": [
    "city_idx = 0\n",
    "days = np.arange(1, weather_dat.shape[1] + 1)\n",
    "\n",
    "plt.plot(days, weather_dat[city_idx, :, 1], marker='o', label=city_names[city_idx])\n",
    "plt.xlabel(\"Day\")\n",
    "plt.ylabel(\"Avg Temp (°F)\")\n",
    "plt.title(f\"Daily average temperature in {city_names[city_idx]}\")\n",
    "plt.legend()\n",
    "plt.show()"
   ]
  },
  {
   "cell_type": "markdown",
   "id": "69a66ebf-2e89-488b-8410-ff4af48ce886",
   "metadata": {},
   "source": [
    "# Capstone problems"
   ]
  },
  {
   "cell_type": "markdown",
   "id": "97a9486c-7230-4f56-9025-a882d7cd285a",
   "metadata": {},
   "source": [
    "## 1"
   ]
  },
  {
   "cell_type": "code",
   "execution_count": null,
   "id": "4eccbc94-cd02-4037-b931-08ea9930bcdc",
   "metadata": {},
   "outputs": [],
   "source": [
    "def plot_city_summary(city_idx, city_name):\n",
    "    city_data = weather_dat[city_idx]               # (n_days, 3)\n",
    "    max_, avg_, min_ = city_data[:, 0], city_data[:, 1], city_data[:, 2]\n",
    "\n",
    "    summary = {\n",
    "        \"mean_max\": float(np.mean(max_)),\n",
    "        \"mean_avg\": float(np.mean(avg_)),\n",
    "        \"mean_min\": float(np.mean(min_)),\n",
    "    }\n",
    "    print(summary)\n",
    "\n",
    "    daily_range = max_ - min_\n",
    "\n",
    "    days = np.arange(1, city_data.shape[0] + 1)\n",
    "    fig, ax = plt.subplots(1, 2, figsize=(10, 4))\n",
    "\n",
    "    ax[0].plot(days, max_, label=\"max\", marker=\"o\")\n",
    "    ax[0].plot(days, avg_, label=\"avg\", marker=\"o\")\n",
    "    ax[0].plot(days, min_, label=\"min\", marker=\"o\")\n",
    "    ax[0].set_xlabel(\"Day\")\n",
    "    ax[0].set_ylabel(\"Temperature (°F)\")\n",
    "    ax[0].set_title(f\"{city_name}: Daily temps\")\n",
    "    ax[0].grid(True, alpha=0.3)\n",
    "    ax[0].legend()\n",
    "\n",
    "    ax[1].hist(daily_range, bins=10, edgecolor=\"k\")\n",
    "    ax[1].set_xlabel(\"Daily range (°F)\")\n",
    "    ax[1].set_ylabel(\"Count\")\n",
    "    ax[1].set_title(f\"{city_name}: Distribution of daily ranges\")\n",
    "    ax[1].grid(True, alpha=0.3)\n",
    "\n",
    "    fig.suptitle(\"Monthly Temperature Summary\")\n",
    "    fig.tight_layout()\n",
    "\n",
    "\n",
    "for indx in range(4):\n",
    "    plot_city_summary(indx, city_names[indx])\n"
   ]
  },
  {
   "cell_type": "markdown",
   "id": "5bcebe4d-8692-4b86-bfc6-8164384ab1e1",
   "metadata": {},
   "source": [
    "## 2"
   ]
  },
  {
   "cell_type": "code",
   "execution_count": null,
   "id": "ae6f5880-49d0-46da-8c0c-297cc35abf1b",
   "metadata": {},
   "outputs": [],
   "source": [
    "def daily_mean(city_idx):\n",
    "    return weather_dat[city_idx, :, 1]\n",
    "\n",
    "avg_by_city = {name: daily_mean(i) for i, name in enumerate(city_names)}\n",
    "\n",
    "n_days = avg_by_city[city_names[0]].size\n",
    "days = np.arange(1, n_days + 1)\n",
    "\n",
    "plt.figure(figsize=(8,5))\n",
    "styles = [\"-\", \"--\", \":\", \"-.\"]\n",
    "for j, (name, series) in enumerate(avg_by_city.items()):\n",
    "    plt.plot(days, series, styles[j % len(styles)], label=name, marker=\"o\")\n",
    "\n",
    "plt.xlabel(\"Day\")\n",
    "plt.ylabel(\"Average Temp (°F)\")\n",
    "plt.title(\"Across‑City Comparison of Daily Average Temperatures\")\n",
    "plt.legend(ncol=2)\n",
    "plt.ylim(min(s.min() for s in avg_by_city.values()) - 2,\n",
    "         max(s.max() for s in avg_by_city.values()) + 2)\n",
    "plt.tight_layout()"
   ]
  }
 ],
 "metadata": {
  "kernelspec": {
   "display_name": "Python (py101)",
   "language": "python",
   "name": "py101"
  },
  "language_info": {
   "codemirror_mode": {
    "name": "ipython",
    "version": 3
   },
   "file_extension": ".py",
   "mimetype": "text/x-python",
   "name": "python",
   "nbconvert_exporter": "python",
   "pygments_lexer": "ipython3",
   "version": "3.12.8"
  }
 },
 "nbformat": 4,
 "nbformat_minor": 5
}
